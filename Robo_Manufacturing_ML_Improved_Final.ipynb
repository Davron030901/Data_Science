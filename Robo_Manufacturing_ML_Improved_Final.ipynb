{
  "cells": [
    {
      "cell_type": "markdown",
      "metadata": {
        "id": "view-in-github",
        "colab_type": "text"
      },
      "source": [
        "<a href=\"https://colab.research.google.com/github/Davron030901/Data_Science/blob/main/Robo_Manufacturing_ML_Improved_Final.ipynb\" target=\"_parent\"><img src=\"https://colab.research.google.com/assets/colab-badge.svg\" alt=\"Open In Colab\"/></a>"
      ]
    },
    {
      "cell_type": "markdown",
      "metadata": {
        "id": "Csioziql5YB1"
      },
      "source": [
        "# Robo Manufacturing Machine Learning - Ma'lumotlarni tahlil qilish va modellashtirish\n",
        "Robo_Manufacturing_ML_Improved_Final.ipynb  [Colab orginal file](https://colab.research.google.com/drive/1zZiAA9tILopd2wZ4q5pEP1hHPfoYdyuV#scrollTo=Csioziql5YB1)\n",
        "\n",
        "Bu Colab daftari Robo Manufacturing ma'lumotlar to'plamini tahlil qilish va machine learning modellarini qo'llashni o'z ichiga oladi.\n",
        "\n",
        "## 1. Ishlab chiqarishda Machine Learning ga kirish\n",
        "\n",
        "Machine learning (ML) ishlab chiqarish sanoatini ma'lumotlarga asoslangan qaror qabul qilish, avtomatlashtirish va optimallashtirishni ta'minlash orqali o'zgartirmoqda. U aniq dasturlashsiz naqshlarni aniqlash, bashoratlar qilish va jarayonlarni takomillashtirish uchun ma'lumotlarda algoritmlarni o'qitishni o'z ichiga oladi.\n",
        "\n",
        "**Nazorat ostidagi o'qitish (Supervised Learning):** Nazorat ostidagi o'qitishda algoritm belgilangan ma'lumotlarda o'qitiladi, bu yerda har bir ma'lumot nuqtasining tegishli chiqish belgisi mavjud. Bu modelga kirish xususiyatlari va chiqish belgilari o'rtasidagi munosabatni o'rganish imkonini beradi.\n",
        "    * **Regression:** Uzluksiz chiqish o'zgaruvchisini bashorat qiladi. Ishlab chiqarishdagi misollar: mashina nosozligi vaqtini bashorat qilish, mahsulot sifati ko'rsatkichlarini baholash va energiya sarfini bashoratlash.\n",
        "    * **Klassifikatsiya:** Kategorik chiqish o'zgaruvchisini bashorat qiladi. Misollarga mahsulotlarni nuqsonli yoki nuqsonsiz sifatida tasniflash, mashina nosozligi turini aniqlash va mashina ma'lum vaqt oralig'ida buzilishini bashorat qilish kiradi.\n",
        "\n",
        "**Nazoratsiz o'qitish (Unsupervised Learning):** Nazoratsiz o'qitishda algoritm belgilanmagan ma'lumotlarda o'qitiladi, bu yerda oldindan belgilangan chiqish belgilari yo'q. Model ma'lumotlardagi naqshlar va tuzilishni o'z-o'zidan topishga harakat qiladi.\n",
        "    * **Klasterlash:** O'xshash ma'lumot nuqtalarini guruhlaydi. Ishlab chiqarishda bu mashinalarni ularning ishlashi asosida segmentlash, turli xil nuqsonlarni aniqlash yoki o'xshash ishlab chiqarish stsenariylarini guruhlash uchun ishlatilishi mumkin.\n",
        "\n",
        "**Ishlab chiqarishdagi ML dasturlari:**\n",
        "\n",
        "* **Bashoratli texnik xizmat:** ML modellari mashinalardan olingan sensor ma'lumotlarini tahlil qilib, qachon texnik xizmat ko'rsatish kerakligini bashorat qilishi mumkin, bu esa ishlamay qolish va texnik xizmat xarajatlarini kamaytiradi.\n",
        "* **Nuqsonlarni aniqlash:** ML ishlab chiqarish jarayonida mahsulotlardagi nuqsonlarni aniqlash uchun ishlatilishi mumkin, bu mahsulot sifatini oshiradi va chiqindilarni kamaytiradi.\n",
        "* **Jarayonni optimallash:** ML algoritmlari ishlab chiqarish ma'lumotlarini tahlil qilib, to'siqlar va samarasizliklarni aniqlashi mumkin, bu esa ish oqimlarini optimallashtirishga va unumdorlikni oshirishga olib keladi.\n",
        "* **Sifat nazorati:** ML modellari turli omillarga asoslanib mahsulot sifatini bashorat qilishi mumkin, bu ishlab chiqarish jarayoniga proaktiv tuzatishlar kiritish imkonini beradi.\n",
        "* **Ta'minot zanjirini boshqarish:** ML inventar darajalarini optimallash, talab o'zgarishlarini bashorat qilish va logistikani yaxshilash.\n",
        "\n",
        "## 2. O'zgaruvchining taqsimoti\n",
        "- **Bir o'zgaruvchili taqsimot**: Bitta o'zgaruvchiga qaratilgan.\n",
        "- **Ikki o'zgaruvchili taqsimot**: Ikki o'zgaruvchi o'rtasidagi munosabatni o'rganadi.\n",
        "- **Ko'p o'zgaruvchili taqsimot**: Uch yoki undan ortiq o'zgaruvchilar o'rtasidagi munosabatlarni tahlil qiladi.\n",
        "\n",
        "## 3. EDA turlari\n",
        "- **Bir o'zgaruvchili grafik bo'lmagan**: Tavsifiy statistika va boshqalar.\n",
        "- **Ko'p o'zgaruvchili grafik bo'lmagan**: Kross-jadvallash, korrelyatsiya matritsalari va boshqalar.\n",
        "- **Bir o'zgaruvchili grafik**: Gistogrammalar, quti diagrammalari va boshqalar.\n",
        "- **Ko'p o'zgaruvchili grafik**: Tarqoq diagrammalar, issiqlik xaritalari va boshqalar.\n",
        "\n",
        "## 4. EDA maqsadlari\n",
        "- Ma'lumotlar to'plamining asosiy xususiyatlarini umumlashtirish.\n",
        "- Ma'lumotlardagi naqshlar, anomaliyalar va munosabatlarni aniqlash.\n",
        "- Ma'lumotlar haqida gipotezalar shakllantirish.\n",
        "- Ma'lumotlarni modellashtirish uchun tayyorlash.\n",
        "\n",
        "## 5. Tadqiqiy ma'lumotlar tahlili – oldindan talab qilinadigan narsalar\n",
        "- **NumPy**: Raqamli hisoblash.\n",
        "- **Pandas**: Ma'lumotlarni qayta ishlash va tahlil qilish.\n",
        "- **Seaborn**: Statistik ma'lumotlarni vizualizatsiya qilish.\n",
        "- **Matplotlib**: Grafikalar kutubxonasi.\n",
        "\n",
        "## 6. Ishlab chiqarishda ML uchun asosiy Python kutubxonalari\n",
        "\n",
        "* **NumPy:** Python-da raqamli hisoblash uchun asosiy kutubxona. Ko'p o'lchovli massivlar va matritsalar uchun qo'llab-quvvatlash, shuningdek ular ustida amallar bajarish uchun matematik funksiyalarni taqdim etadi. ML-da ma'lumotlarni qayta ishlash va hisob-kitoblar uchun muhim.\n",
        "* **Pandas:** Ma'lumotlarni qayta ishlash va tahlil qilish uchun kuchli kutubxona. Tuzilgan ma'lumotlarni samarali boshqarish uchun DataFrame kabi ma'lumotlar tuzilmalarini taklif qiladi. Ma'lumotlarni tozalash, transformatsiya qilish va jamlash uchun ishlatiladi.\n",
        "* **Matplotlib:** Python-da statik, interaktiv va animatsion vizualizatsiyalar yaratish uchun keng qamrovli grafikalar kutubxonasi. Ma'lumotlar taqsimoti, munosabatlar va model ishlashini vizualizatsiya qilish uchun ishlatiladi.\n",
        "* **Seaborn:** Matplotlib asosidagi statistik ma'lumotlar vizualizatsiyasi kutubxonasi. Mazmunli va jozibali statistik grafikalar yaratish uchun yuqori darajadagi interfeys taqdim etadi. Murakkab grafiklarni yaratishni soddalashtiradi.\n",
        "* **Scikit-learn:** Klassifikatsiya, regression, klasterlash, o'lchovlilikni kamaytirish, model tanlash va oldindan qayta ishlash uchun algoritmlarning keng doirasini taklif etuvchi keng qamrovli ML kutubxonasi. ML modellarini yaratish va baholash uchun keng qo'llaniladi.\n",
        "\n",
        "**Ishlab chiqarish dasturlaridagi rollari:**\n",
        "\n",
        "* **Ma'lumotlarni tahlil qilish:** Pandas ishlab chiqarish ma'lumotlarini tahlil uchun tozalash, o'zgartirish va tayyorlash uchun ishlatiladi. NumPy ma'lumotlar ustida raqamli amallarni qo'llab-quvvatlaydi, Matplotlib va Seaborn esa ma'lumotlar naqshlari va munosabatlarini vizualizatsiya qilish uchun ishlatiladi.\n",
        "* **Model qurish:** Scikit-learn bashoratli texnik xizmat, nuqsonlarni aniqlash va jarayonni optimallash kabi turli ishlab chiqarish vazifalari uchun ML modellarini yaratish, o'qitish va baholash vositalarini taqdim etadi.\n",
        "* **Integratsiya:** Bu kutubxonalar ko'pincha birgalikda ishlaydi. Masalan, Pandas ma'lumotlarni oldindan qayta ishlash uchun, Scikit-learn model yaratish uchun va Matplotlib/Seaborn natijalarni vizualizatsiya qilish uchun ishlatilishi mumkin.\n",
        "\n",
        "Bu kutubxonalar data scientist va ML muhandislariga ma'lumotlarni tahlil qilish, modellar yaratish va ayniqsa ishlab chiqarish kabi murakkab sohalarda tushunchalar olish uchun muhim vositalarni taqdim etadi."
      ]
    },
    {
      "cell_type": "markdown",
      "metadata": {
        "id": "gENuJd9_5sBJ"
      },
      "source": [
        "# 1. Kutubxonalarni yuklash"
      ]
    },
    {
      "cell_type": "code",
      "execution_count": null,
      "metadata": {
        "colab": {
          "base_uri": "https://localhost:8080/"
        },
        "id": "cHjCMy3mNm63",
        "outputId": "1efe0725-96a3-43cc-9411-324a345eedcd"
      },
      "outputs": [
        {
          "name": "stdout",
          "output_type": "stream",
          "text": [
            "Requirement already satisfied: imbalanced-learn in /usr/local/lib/python3.11/dist-packages (0.13.0)\n",
            "Requirement already satisfied: numpy<3,>=1.24.3 in /usr/local/lib/python3.11/dist-packages (from imbalanced-learn) (1.26.4)\n",
            "Requirement already satisfied: scipy<2,>=1.10.1 in /usr/local/lib/python3.11/dist-packages (from imbalanced-learn) (1.13.1)\n",
            "Requirement already satisfied: scikit-learn<2,>=1.3.2 in /usr/local/lib/python3.11/dist-packages (from imbalanced-learn) (1.6.1)\n",
            "Requirement already satisfied: sklearn-compat<1,>=0.1 in /usr/local/lib/python3.11/dist-packages (from imbalanced-learn) (0.1.3)\n",
            "Requirement already satisfied: joblib<2,>=1.1.1 in /usr/local/lib/python3.11/dist-packages (from imbalanced-learn) (1.4.2)\n",
            "Requirement already satisfied: threadpoolctl<4,>=2.0.0 in /usr/local/lib/python3.11/dist-packages (from imbalanced-learn) (3.5.0)\n"
          ]
        }
      ],
      "source": [
        "!pip install -U imbalanced-learn"
      ]
    },
    {
      "cell_type": "code",
      "execution_count": null,
      "metadata": {
        "id": "W0GQwEE6feeF"
      },
      "outputs": [],
      "source": [
        "import warnings\n",
        "warnings.simplefilter(action=\"ignore\", category=FutureWarning)\n",
        "import time\n",
        "import numpy as np\n",
        "import pandas as pd\n",
        "import seaborn as sns\n",
        "import matplotlib.pyplot as plt\n",
        "from scipy.stats import linregress\n",
        "from sklearn.preprocessing import LabelEncoder\n",
        "from sklearn.model_selection import train_test_split,cross_val_score,cross_val_predict,GridSearchCV\n",
        "from sklearn.metrics import accuracy_score, classification_report, mean_absolute_error, mean_squared_error, r2_score\n",
        "from imblearn.over_sampling import SMOTE, ADASYN\n",
        "from imblearn.under_sampling import TomekLinks\n",
        "from imblearn.combine import SMOTEENN\n",
        "from sklearn.ensemble import (RandomForestClassifier, GradientBoostingClassifier,VotingClassifier,\n",
        "                              AdaBoostClassifier, ExtraTreesClassifier,RandomForestRegressor,\n",
        "                              GradientBoostingRegressor, AdaBoostRegressor, ExtraTreesRegressor)\n",
        "from sklearn.linear_model import LogisticRegression, LinearRegression\n",
        "from sklearn.tree import DecisionTreeClassifier, DecisionTreeRegressor\n",
        "from sklearn.neighbors import KNeighborsClassifier, KNeighborsRegressor\n",
        "from sklearn.naive_bayes import GaussianNB\n",
        "from sklearn.svm import SVC, SVR\n",
        "from sklearn.model_selection import GridSearchCV, RandomizedSearchCV\n",
        "from sklearn.preprocessing import StandardScaler\n",
        "import xgboost as xgb\n",
        "import lightgbm as lgb\n",
        "from sklearn.pipeline import Pipeline\n",
        "from collections import defaultdict\n",
        "\n",
        "# # Grafiklar uchun\n",
        "# %matplotlib inline\n",
        "sns.set(style=\"whitegrid\")"
      ]
    },
    {
      "cell_type": "markdown",
      "metadata": {
        "id": "pnHIQZ_j56tI"
      },
      "source": [
        "# 2. Ma'lumotlarni yuklash va tayyorlash"
      ]
    },
    {
      "cell_type": "markdown",
      "metadata": {
        "id": "rusPUSRtGGhy"
      },
      "source": [
        "## Ma'lumotlarni GitHub repozitoriysidan yuklab olish (agar kerak bo'lsa)\n",
        "\n",
        "\n",
        "[Github link](https://raw.githubusercontent.com/Davron030901/Machine_Learning/main/data/ai4i2020.csvh)\n",
        "\n",
        "\n",
        "[Orginal dataset](https://archive.ics.uci.edu/dataset/601/ai4i+2020+predictive+maintenance+dataset)\n",
        "\n"
      ]
    },
    {
      "cell_type": "markdown",
      "metadata": {
        "id": "1BbjAv205CdT"
      },
      "source": [
        "\n",
        "\n",
        "\n",
        "\n",
        "\n",
        "\n"
      ]
    },
    {
      "cell_type": "markdown",
      "metadata": {
        "id": "baoPyY6gHD1E"
      },
      "source": [
        "2.1 Ma'lumotlarni yuklab olish"
      ]
    },
    {
      "cell_type": "code",
      "execution_count": null,
      "metadata": {
        "colab": {
          "base_uri": "https://localhost:8080/"
        },
        "id": "6uz4pOP1eqQP",
        "outputId": "a473a03c-ac40-4108-ae62-6150a9b5f08d"
      },
      "outputs": [
        {
          "name": "stdout",
          "output_type": "stream",
          "text": [
            "--2025-01-25 17:03:21--  https://raw.githubusercontent.com/Davron030901/Machine_Learning/main/data/ai4i2020.csv\n",
            "Resolving raw.githubusercontent.com (raw.githubusercontent.com)... 185.199.108.133, 185.199.109.133, 185.199.110.133, ...\n",
            "Connecting to raw.githubusercontent.com (raw.githubusercontent.com)|185.199.108.133|:443... connected.\n",
            "HTTP request sent, awaiting response... 200 OK\n",
            "Length: 522048 (510K) [text/plain]\n",
            "Saving to: ‘ai4i2020.csv’\n",
            "\n",
            "ai4i2020.csv        100%[===================>] 509.81K  --.-KB/s    in 0.005s  \n",
            "\n",
            "2025-01-25 17:03:21 (95.2 MB/s) - ‘ai4i2020.csv’ saved [522048/522048]\n",
            "\n"
          ]
        }
      ],
      "source": [
        "!wget https://raw.githubusercontent.com/Davron030901/Machine_Learning/main/data/ai4i2020.csv"
      ]
    },
    {
      "cell_type": "markdown",
      "metadata": {
        "id": "MQWKIFqm6Mk-"
      },
      "source": [
        "2.2 Ma'lumotlarni o'qish\n",
        "\n",
        " Faqat kerak bo'lganda ishlatish"
      ]
    },
    {
      "cell_type": "code",
      "execution_count": null,
      "metadata": {
        "id": "DiB4uT7WfVfv"
      },
      "outputs": [],
      "source": [
        "data='ai4i2020.csv'\n",
        "df = pd.read_csv(data)"
      ]
    },
    {
      "cell_type": "code",
      "execution_count": null,
      "metadata": {
        "colab": {
          "base_uri": "https://localhost:8080/",
          "height": 206
        },
        "id": "j9ntAX0Ha5YX",
        "outputId": "055703ce-cadd-4edb-8147-8d5b9e251b8d"
      },
      "outputs": [
        {
          "data": {
            "application/vnd.google.colaboratory.intrinsic+json": {
              "summary": "{\n  \"name\": \"df\",\n  \"rows\": 10000,\n  \"fields\": [\n    {\n      \"column\": \"UDI\",\n      \"properties\": {\n        \"dtype\": \"number\",\n        \"std\": 2886,\n        \"min\": 1,\n        \"max\": 10000,\n        \"num_unique_values\": 10000,\n        \"samples\": [\n          6253,\n          4685,\n          1732\n        ],\n        \"semantic_type\": \"\",\n        \"description\": \"\"\n      }\n    },\n    {\n      \"column\": \"Product ID\",\n      \"properties\": {\n        \"dtype\": \"string\",\n        \"num_unique_values\": 10000,\n        \"samples\": [\n          \"L53432\",\n          \"M19544\",\n          \"M16591\"\n        ],\n        \"semantic_type\": \"\",\n        \"description\": \"\"\n      }\n    },\n    {\n      \"column\": \"Type\",\n      \"properties\": {\n        \"dtype\": \"category\",\n        \"num_unique_values\": 3,\n        \"samples\": [\n          \"M\",\n          \"L\",\n          \"H\"\n        ],\n        \"semantic_type\": \"\",\n        \"description\": \"\"\n      }\n    },\n    {\n      \"column\": \"Air temperature [K]\",\n      \"properties\": {\n        \"dtype\": \"number\",\n        \"std\": 2.0002586829157574,\n        \"min\": 295.3,\n        \"max\": 304.5,\n        \"num_unique_values\": 93,\n        \"samples\": [\n          299.3,\n          296.9,\n          300.8\n        ],\n        \"semantic_type\": \"\",\n        \"description\": \"\"\n      }\n    },\n    {\n      \"column\": \"Process temperature [K]\",\n      \"properties\": {\n        \"dtype\": \"number\",\n        \"std\": 1.4837342191657419,\n        \"min\": 305.7,\n        \"max\": 313.8,\n        \"num_unique_values\": 82,\n        \"samples\": [\n          307.2,\n          308.6,\n          310.1\n        ],\n        \"semantic_type\": \"\",\n        \"description\": \"\"\n      }\n    },\n    {\n      \"column\": \"Rotational speed [rpm]\",\n      \"properties\": {\n        \"dtype\": \"number\",\n        \"std\": 179,\n        \"min\": 1168,\n        \"max\": 2886,\n        \"num_unique_values\": 941,\n        \"samples\": [\n          1274,\n          1576,\n          2010\n        ],\n        \"semantic_type\": \"\",\n        \"description\": \"\"\n      }\n    },\n    {\n      \"column\": \"Torque [Nm]\",\n      \"properties\": {\n        \"dtype\": \"number\",\n        \"std\": 9.968933725121401,\n        \"min\": 3.8,\n        \"max\": 76.6,\n        \"num_unique_values\": 577,\n        \"samples\": [\n          36.1,\n          65.9,\n          12.6\n        ],\n        \"semantic_type\": \"\",\n        \"description\": \"\"\n      }\n    },\n    {\n      \"column\": \"Tool wear [min]\",\n      \"properties\": {\n        \"dtype\": \"number\",\n        \"std\": 63,\n        \"min\": 0,\n        \"max\": 253,\n        \"num_unique_values\": 246,\n        \"samples\": [\n          93,\n          14,\n          215\n        ],\n        \"semantic_type\": \"\",\n        \"description\": \"\"\n      }\n    },\n    {\n      \"column\": \"Machine failure\",\n      \"properties\": {\n        \"dtype\": \"number\",\n        \"std\": 0,\n        \"min\": 0,\n        \"max\": 1,\n        \"num_unique_values\": 2,\n        \"samples\": [\n          1,\n          0\n        ],\n        \"semantic_type\": \"\",\n        \"description\": \"\"\n      }\n    },\n    {\n      \"column\": \"TWF\",\n      \"properties\": {\n        \"dtype\": \"number\",\n        \"std\": 0,\n        \"min\": 0,\n        \"max\": 1,\n        \"num_unique_values\": 2,\n        \"samples\": [\n          1,\n          0\n        ],\n        \"semantic_type\": \"\",\n        \"description\": \"\"\n      }\n    },\n    {\n      \"column\": \"HDF\",\n      \"properties\": {\n        \"dtype\": \"number\",\n        \"std\": 0,\n        \"min\": 0,\n        \"max\": 1,\n        \"num_unique_values\": 2,\n        \"samples\": [\n          1,\n          0\n        ],\n        \"semantic_type\": \"\",\n        \"description\": \"\"\n      }\n    },\n    {\n      \"column\": \"PWF\",\n      \"properties\": {\n        \"dtype\": \"number\",\n        \"std\": 0,\n        \"min\": 0,\n        \"max\": 1,\n        \"num_unique_values\": 2,\n        \"samples\": [\n          1,\n          0\n        ],\n        \"semantic_type\": \"\",\n        \"description\": \"\"\n      }\n    },\n    {\n      \"column\": \"OSF\",\n      \"properties\": {\n        \"dtype\": \"number\",\n        \"std\": 0,\n        \"min\": 0,\n        \"max\": 1,\n        \"num_unique_values\": 2,\n        \"samples\": [\n          1,\n          0\n        ],\n        \"semantic_type\": \"\",\n        \"description\": \"\"\n      }\n    },\n    {\n      \"column\": \"RNF\",\n      \"properties\": {\n        \"dtype\": \"number\",\n        \"std\": 0,\n        \"min\": 0,\n        \"max\": 1,\n        \"num_unique_values\": 2,\n        \"samples\": [\n          1,\n          0\n        ],\n        \"semantic_type\": \"\",\n        \"description\": \"\"\n      }\n    }\n  ]\n}",
              "type": "dataframe",
              "variable_name": "df"
            },
            "text/html": [
              "\n",
              "  <div id=\"df-00322618-cd96-4598-b8da-36ae8c7bc51f\" class=\"colab-df-container\">\n",
              "    <div>\n",
              "<style scoped>\n",
              "    .dataframe tbody tr th:only-of-type {\n",
              "        vertical-align: middle;\n",
              "    }\n",
              "\n",
              "    .dataframe tbody tr th {\n",
              "        vertical-align: top;\n",
              "    }\n",
              "\n",
              "    .dataframe thead th {\n",
              "        text-align: right;\n",
              "    }\n",
              "</style>\n",
              "<table border=\"1\" class=\"dataframe\">\n",
              "  <thead>\n",
              "    <tr style=\"text-align: right;\">\n",
              "      <th></th>\n",
              "      <th>UDI</th>\n",
              "      <th>Product ID</th>\n",
              "      <th>Type</th>\n",
              "      <th>Air temperature [K]</th>\n",
              "      <th>Process temperature [K]</th>\n",
              "      <th>Rotational speed [rpm]</th>\n",
              "      <th>Torque [Nm]</th>\n",
              "      <th>Tool wear [min]</th>\n",
              "      <th>Machine failure</th>\n",
              "      <th>TWF</th>\n",
              "      <th>HDF</th>\n",
              "      <th>PWF</th>\n",
              "      <th>OSF</th>\n",
              "      <th>RNF</th>\n",
              "    </tr>\n",
              "  </thead>\n",
              "  <tbody>\n",
              "    <tr>\n",
              "      <th>0</th>\n",
              "      <td>1</td>\n",
              "      <td>M14860</td>\n",
              "      <td>M</td>\n",
              "      <td>298.1</td>\n",
              "      <td>308.6</td>\n",
              "      <td>1551</td>\n",
              "      <td>42.8</td>\n",
              "      <td>0</td>\n",
              "      <td>0</td>\n",
              "      <td>0</td>\n",
              "      <td>0</td>\n",
              "      <td>0</td>\n",
              "      <td>0</td>\n",
              "      <td>0</td>\n",
              "    </tr>\n",
              "    <tr>\n",
              "      <th>1</th>\n",
              "      <td>2</td>\n",
              "      <td>L47181</td>\n",
              "      <td>L</td>\n",
              "      <td>298.2</td>\n",
              "      <td>308.7</td>\n",
              "      <td>1408</td>\n",
              "      <td>46.3</td>\n",
              "      <td>3</td>\n",
              "      <td>0</td>\n",
              "      <td>0</td>\n",
              "      <td>0</td>\n",
              "      <td>0</td>\n",
              "      <td>0</td>\n",
              "      <td>0</td>\n",
              "    </tr>\n",
              "    <tr>\n",
              "      <th>2</th>\n",
              "      <td>3</td>\n",
              "      <td>L47182</td>\n",
              "      <td>L</td>\n",
              "      <td>298.1</td>\n",
              "      <td>308.5</td>\n",
              "      <td>1498</td>\n",
              "      <td>49.4</td>\n",
              "      <td>5</td>\n",
              "      <td>0</td>\n",
              "      <td>0</td>\n",
              "      <td>0</td>\n",
              "      <td>0</td>\n",
              "      <td>0</td>\n",
              "      <td>0</td>\n",
              "    </tr>\n",
              "    <tr>\n",
              "      <th>3</th>\n",
              "      <td>4</td>\n",
              "      <td>L47183</td>\n",
              "      <td>L</td>\n",
              "      <td>298.2</td>\n",
              "      <td>308.6</td>\n",
              "      <td>1433</td>\n",
              "      <td>39.5</td>\n",
              "      <td>7</td>\n",
              "      <td>0</td>\n",
              "      <td>0</td>\n",
              "      <td>0</td>\n",
              "      <td>0</td>\n",
              "      <td>0</td>\n",
              "      <td>0</td>\n",
              "    </tr>\n",
              "    <tr>\n",
              "      <th>4</th>\n",
              "      <td>5</td>\n",
              "      <td>L47184</td>\n",
              "      <td>L</td>\n",
              "      <td>298.2</td>\n",
              "      <td>308.7</td>\n",
              "      <td>1408</td>\n",
              "      <td>40.0</td>\n",
              "      <td>9</td>\n",
              "      <td>0</td>\n",
              "      <td>0</td>\n",
              "      <td>0</td>\n",
              "      <td>0</td>\n",
              "      <td>0</td>\n",
              "      <td>0</td>\n",
              "    </tr>\n",
              "  </tbody>\n",
              "</table>\n",
              "</div>\n",
              "    <div class=\"colab-df-buttons\">\n",
              "\n",
              "  <div class=\"colab-df-container\">\n",
              "    <button class=\"colab-df-convert\" onclick=\"convertToInteractive('df-00322618-cd96-4598-b8da-36ae8c7bc51f')\"\n",
              "            title=\"Convert this dataframe to an interactive table.\"\n",
              "            style=\"display:none;\">\n",
              "\n",
              "  <svg xmlns=\"http://www.w3.org/2000/svg\" height=\"24px\" viewBox=\"0 -960 960 960\">\n",
              "    <path d=\"M120-120v-720h720v720H120Zm60-500h600v-160H180v160Zm220 220h160v-160H400v160Zm0 220h160v-160H400v160ZM180-400h160v-160H180v160Zm440 0h160v-160H620v160ZM180-180h160v-160H180v160Zm440 0h160v-160H620v160Z\"/>\n",
              "  </svg>\n",
              "    </button>\n",
              "\n",
              "  <style>\n",
              "    .colab-df-container {\n",
              "      display:flex;\n",
              "      gap: 12px;\n",
              "    }\n",
              "\n",
              "    .colab-df-convert {\n",
              "      background-color: #E8F0FE;\n",
              "      border: none;\n",
              "      border-radius: 50%;\n",
              "      cursor: pointer;\n",
              "      display: none;\n",
              "      fill: #1967D2;\n",
              "      height: 32px;\n",
              "      padding: 0 0 0 0;\n",
              "      width: 32px;\n",
              "    }\n",
              "\n",
              "    .colab-df-convert:hover {\n",
              "      background-color: #E2EBFA;\n",
              "      box-shadow: 0px 1px 2px rgba(60, 64, 67, 0.3), 0px 1px 3px 1px rgba(60, 64, 67, 0.15);\n",
              "      fill: #174EA6;\n",
              "    }\n",
              "\n",
              "    .colab-df-buttons div {\n",
              "      margin-bottom: 4px;\n",
              "    }\n",
              "\n",
              "    [theme=dark] .colab-df-convert {\n",
              "      background-color: #3B4455;\n",
              "      fill: #D2E3FC;\n",
              "    }\n",
              "\n",
              "    [theme=dark] .colab-df-convert:hover {\n",
              "      background-color: #434B5C;\n",
              "      box-shadow: 0px 1px 3px 1px rgba(0, 0, 0, 0.15);\n",
              "      filter: drop-shadow(0px 1px 2px rgba(0, 0, 0, 0.3));\n",
              "      fill: #FFFFFF;\n",
              "    }\n",
              "  </style>\n",
              "\n",
              "    <script>\n",
              "      const buttonEl =\n",
              "        document.querySelector('#df-00322618-cd96-4598-b8da-36ae8c7bc51f button.colab-df-convert');\n",
              "      buttonEl.style.display =\n",
              "        google.colab.kernel.accessAllowed ? 'block' : 'none';\n",
              "\n",
              "      async function convertToInteractive(key) {\n",
              "        const element = document.querySelector('#df-00322618-cd96-4598-b8da-36ae8c7bc51f');\n",
              "        const dataTable =\n",
              "          await google.colab.kernel.invokeFunction('convertToInteractive',\n",
              "                                                    [key], {});\n",
              "        if (!dataTable) return;\n",
              "\n",
              "        const docLinkHtml = 'Like what you see? Visit the ' +\n",
              "          '<a target=\"_blank\" href=https://colab.research.google.com/notebooks/data_table.ipynb>data table notebook</a>'\n",
              "          + ' to learn more about interactive tables.';\n",
              "        element.innerHTML = '';\n",
              "        dataTable['output_type'] = 'display_data';\n",
              "        await google.colab.output.renderOutput(dataTable, element);\n",
              "        const docLink = document.createElement('div');\n",
              "        docLink.innerHTML = docLinkHtml;\n",
              "        element.appendChild(docLink);\n",
              "      }\n",
              "    </script>\n",
              "  </div>\n",
              "\n",
              "\n",
              "<div id=\"df-657cb4b1-72d9-4458-8ee2-9526bad16c39\">\n",
              "  <button class=\"colab-df-quickchart\" onclick=\"quickchart('df-657cb4b1-72d9-4458-8ee2-9526bad16c39')\"\n",
              "            title=\"Suggest charts\"\n",
              "            style=\"display:none;\">\n",
              "\n",
              "<svg xmlns=\"http://www.w3.org/2000/svg\" height=\"24px\"viewBox=\"0 0 24 24\"\n",
              "     width=\"24px\">\n",
              "    <g>\n",
              "        <path d=\"M19 3H5c-1.1 0-2 .9-2 2v14c0 1.1.9 2 2 2h14c1.1 0 2-.9 2-2V5c0-1.1-.9-2-2-2zM9 17H7v-7h2v7zm4 0h-2V7h2v10zm4 0h-2v-4h2v4z\"/>\n",
              "    </g>\n",
              "</svg>\n",
              "  </button>\n",
              "\n",
              "<style>\n",
              "  .colab-df-quickchart {\n",
              "      --bg-color: #E8F0FE;\n",
              "      --fill-color: #1967D2;\n",
              "      --hover-bg-color: #E2EBFA;\n",
              "      --hover-fill-color: #174EA6;\n",
              "      --disabled-fill-color: #AAA;\n",
              "      --disabled-bg-color: #DDD;\n",
              "  }\n",
              "\n",
              "  [theme=dark] .colab-df-quickchart {\n",
              "      --bg-color: #3B4455;\n",
              "      --fill-color: #D2E3FC;\n",
              "      --hover-bg-color: #434B5C;\n",
              "      --hover-fill-color: #FFFFFF;\n",
              "      --disabled-bg-color: #3B4455;\n",
              "      --disabled-fill-color: #666;\n",
              "  }\n",
              "\n",
              "  .colab-df-quickchart {\n",
              "    background-color: var(--bg-color);\n",
              "    border: none;\n",
              "    border-radius: 50%;\n",
              "    cursor: pointer;\n",
              "    display: none;\n",
              "    fill: var(--fill-color);\n",
              "    height: 32px;\n",
              "    padding: 0;\n",
              "    width: 32px;\n",
              "  }\n",
              "\n",
              "  .colab-df-quickchart:hover {\n",
              "    background-color: var(--hover-bg-color);\n",
              "    box-shadow: 0 1px 2px rgba(60, 64, 67, 0.3), 0 1px 3px 1px rgba(60, 64, 67, 0.15);\n",
              "    fill: var(--button-hover-fill-color);\n",
              "  }\n",
              "\n",
              "  .colab-df-quickchart-complete:disabled,\n",
              "  .colab-df-quickchart-complete:disabled:hover {\n",
              "    background-color: var(--disabled-bg-color);\n",
              "    fill: var(--disabled-fill-color);\n",
              "    box-shadow: none;\n",
              "  }\n",
              "\n",
              "  .colab-df-spinner {\n",
              "    border: 2px solid var(--fill-color);\n",
              "    border-color: transparent;\n",
              "    border-bottom-color: var(--fill-color);\n",
              "    animation:\n",
              "      spin 1s steps(1) infinite;\n",
              "  }\n",
              "\n",
              "  @keyframes spin {\n",
              "    0% {\n",
              "      border-color: transparent;\n",
              "      border-bottom-color: var(--fill-color);\n",
              "      border-left-color: var(--fill-color);\n",
              "    }\n",
              "    20% {\n",
              "      border-color: transparent;\n",
              "      border-left-color: var(--fill-color);\n",
              "      border-top-color: var(--fill-color);\n",
              "    }\n",
              "    30% {\n",
              "      border-color: transparent;\n",
              "      border-left-color: var(--fill-color);\n",
              "      border-top-color: var(--fill-color);\n",
              "      border-right-color: var(--fill-color);\n",
              "    }\n",
              "    40% {\n",
              "      border-color: transparent;\n",
              "      border-right-color: var(--fill-color);\n",
              "      border-top-color: var(--fill-color);\n",
              "    }\n",
              "    60% {\n",
              "      border-color: transparent;\n",
              "      border-right-color: var(--fill-color);\n",
              "    }\n",
              "    80% {\n",
              "      border-color: transparent;\n",
              "      border-right-color: var(--fill-color);\n",
              "      border-bottom-color: var(--fill-color);\n",
              "    }\n",
              "    90% {\n",
              "      border-color: transparent;\n",
              "      border-bottom-color: var(--fill-color);\n",
              "    }\n",
              "  }\n",
              "</style>\n",
              "\n",
              "  <script>\n",
              "    async function quickchart(key) {\n",
              "      const quickchartButtonEl =\n",
              "        document.querySelector('#' + key + ' button');\n",
              "      quickchartButtonEl.disabled = true;  // To prevent multiple clicks.\n",
              "      quickchartButtonEl.classList.add('colab-df-spinner');\n",
              "      try {\n",
              "        const charts = await google.colab.kernel.invokeFunction(\n",
              "            'suggestCharts', [key], {});\n",
              "      } catch (error) {\n",
              "        console.error('Error during call to suggestCharts:', error);\n",
              "      }\n",
              "      quickchartButtonEl.classList.remove('colab-df-spinner');\n",
              "      quickchartButtonEl.classList.add('colab-df-quickchart-complete');\n",
              "    }\n",
              "    (() => {\n",
              "      let quickchartButtonEl =\n",
              "        document.querySelector('#df-657cb4b1-72d9-4458-8ee2-9526bad16c39 button');\n",
              "      quickchartButtonEl.style.display =\n",
              "        google.colab.kernel.accessAllowed ? 'block' : 'none';\n",
              "    })();\n",
              "  </script>\n",
              "</div>\n",
              "\n",
              "    </div>\n",
              "  </div>\n"
            ],
            "text/plain": [
              "   UDI Product ID Type  Air temperature [K]  Process temperature [K]  \\\n",
              "0    1     M14860    M                298.1                    308.6   \n",
              "1    2     L47181    L                298.2                    308.7   \n",
              "2    3     L47182    L                298.1                    308.5   \n",
              "3    4     L47183    L                298.2                    308.6   \n",
              "4    5     L47184    L                298.2                    308.7   \n",
              "\n",
              "   Rotational speed [rpm]  Torque [Nm]  Tool wear [min]  Machine failure  TWF  \\\n",
              "0                    1551         42.8                0                0    0   \n",
              "1                    1408         46.3                3                0    0   \n",
              "2                    1498         49.4                5                0    0   \n",
              "3                    1433         39.5                7                0    0   \n",
              "4                    1408         40.0                9                0    0   \n",
              "\n",
              "   HDF  PWF  OSF  RNF  \n",
              "0    0    0    0    0  \n",
              "1    0    0    0    0  \n",
              "2    0    0    0    0  \n",
              "3    0    0    0    0  \n",
              "4    0    0    0    0  "
            ]
          },
          "execution_count": 5,
          "metadata": {},
          "output_type": "execute_result"
        }
      ],
      "source": [
        "df.head()"
      ]
    },
    {
      "cell_type": "markdown",
      "metadata": {
        "id": "9235ekrw6Wzn"
      },
      "source": [
        "2.3 Keraksiz ustunlarni olib tashlash"
      ]
    },
    {
      "cell_type": "code",
      "execution_count": null,
      "metadata": {
        "id": "wmFvAbHzfs5o"
      },
      "outputs": [],
      "source": [
        "df.drop(['UDI','Product ID'], axis=1, inplace=True)"
      ]
    },
    {
      "cell_type": "code",
      "execution_count": null,
      "metadata": {
        "colab": {
          "base_uri": "https://localhost:8080/",
          "height": 317
        },
        "id": "eWxlaaC5bAZY",
        "outputId": "6be0a2c4-da15-4ee8-ba17-68fc712bf479"
      },
      "outputs": [
        {
          "data": {
            "application/vnd.google.colaboratory.intrinsic+json": {
              "summary": "{\n  \"name\": \"df\",\n  \"rows\": 8,\n  \"fields\": [\n    {\n      \"column\": \"Air temperature [K]\",\n      \"properties\": {\n        \"dtype\": \"number\",\n        \"std\": 3446.112587891836,\n        \"min\": 2.0002586829157574,\n        \"max\": 10000.0,\n        \"num_unique_values\": 8,\n        \"samples\": [\n          300.00493,\n          300.1,\n          10000.0\n        ],\n        \"semantic_type\": \"\",\n        \"description\": \"\"\n      }\n    },\n    {\n      \"column\": \"Process temperature [K]\",\n      \"properties\": {\n        \"dtype\": \"number\",\n        \"std\": 3443.232448462189,\n        \"min\": 1.4837342191657419,\n        \"max\": 10000.0,\n        \"num_unique_values\": 8,\n        \"samples\": [\n          310.00556,\n          310.1,\n          10000.0\n        ],\n        \"semantic_type\": \"\",\n        \"description\": \"\"\n      }\n    },\n    {\n      \"column\": \"Rotational speed [rpm]\",\n      \"properties\": {\n        \"dtype\": \"number\",\n        \"std\": 3103.301433905864,\n        \"min\": 179.28409591342628,\n        \"max\": 10000.0,\n        \"num_unique_values\": 8,\n        \"samples\": [\n          1538.7761,\n          1503.0,\n          10000.0\n        ],\n        \"semantic_type\": \"\",\n        \"description\": \"\"\n      }\n    },\n    {\n      \"column\": \"Torque [Nm]\",\n      \"properties\": {\n        \"dtype\": \"number\",\n        \"std\": 3522.9553380464768,\n        \"min\": 3.8,\n        \"max\": 10000.0,\n        \"num_unique_values\": 8,\n        \"samples\": [\n          39.986909999999995,\n          40.1,\n          10000.0\n        ],\n        \"semantic_type\": \"\",\n        \"description\": \"\"\n      }\n    },\n    {\n      \"column\": \"Tool wear [min]\",\n      \"properties\": {\n        \"dtype\": \"number\",\n        \"std\": 3498.6028684989537,\n        \"min\": 0.0,\n        \"max\": 10000.0,\n        \"num_unique_values\": 8,\n        \"samples\": [\n          107.951,\n          108.0,\n          10000.0\n        ],\n        \"semantic_type\": \"\",\n        \"description\": \"\"\n      }\n    },\n    {\n      \"column\": \"Machine failure\",\n      \"properties\": {\n        \"dtype\": \"number\",\n        \"std\": 3535.4725618125285,\n        \"min\": 0.0,\n        \"max\": 10000.0,\n        \"num_unique_values\": 5,\n        \"samples\": [\n          0.0339,\n          1.0,\n          0.18098084265064265\n        ],\n        \"semantic_type\": \"\",\n        \"description\": \"\"\n      }\n    },\n    {\n      \"column\": \"TWF\",\n      \"properties\": {\n        \"dtype\": \"number\",\n        \"std\": 3535.479765071392,\n        \"min\": 0.0,\n        \"max\": 10000.0,\n        \"num_unique_values\": 5,\n        \"samples\": [\n          0.0046,\n          1.0,\n          0.06767051004531742\n        ],\n        \"semantic_type\": \"\",\n        \"description\": \"\"\n      }\n    },\n    {\n      \"column\": \"HDF\",\n      \"properties\": {\n        \"dtype\": \"number\",\n        \"std\": 3535.477448920331,\n        \"min\": 0.0,\n        \"max\": 10000.0,\n        \"num_unique_values\": 5,\n        \"samples\": [\n          0.0115,\n          1.0,\n          0.10662498247917784\n        ],\n        \"semantic_type\": \"\",\n        \"description\": \"\"\n      }\n    },\n    {\n      \"column\": \"PWF\",\n      \"properties\": {\n        \"dtype\": \"number\",\n        \"std\": 3535.4780356645374,\n        \"min\": 0.0,\n        \"max\": 10000.0,\n        \"num_unique_values\": 5,\n        \"samples\": [\n          0.0095,\n          1.0,\n          0.09700871645943188\n        ],\n        \"semantic_type\": \"\",\n        \"description\": \"\"\n      }\n    },\n    {\n      \"column\": \"OSF\",\n      \"properties\": {\n        \"dtype\": \"number\",\n        \"std\": 3535.4779444983915,\n        \"min\": 0.0,\n        \"max\": 10000.0,\n        \"num_unique_values\": 5,\n        \"samples\": [\n          0.0098,\n          1.0,\n          0.09851360562404972\n        ],\n        \"semantic_type\": \"\",\n        \"description\": \"\"\n      }\n    },\n    {\n      \"column\": \"RNF\",\n      \"properties\": {\n        \"dtype\": \"number\",\n        \"std\": 3535.481119834332,\n        \"min\": 0.0,\n        \"max\": 10000.0,\n        \"num_unique_values\": 5,\n        \"samples\": [\n          0.0019,\n          1.0,\n          0.04354973774853278\n        ],\n        \"semantic_type\": \"\",\n        \"description\": \"\"\n      }\n    }\n  ]\n}",
              "type": "dataframe"
            },
            "text/html": [
              "\n",
              "  <div id=\"df-3f42a22e-65b6-4349-8aa0-0534bbb23629\" class=\"colab-df-container\">\n",
              "    <div>\n",
              "<style scoped>\n",
              "    .dataframe tbody tr th:only-of-type {\n",
              "        vertical-align: middle;\n",
              "    }\n",
              "\n",
              "    .dataframe tbody tr th {\n",
              "        vertical-align: top;\n",
              "    }\n",
              "\n",
              "    .dataframe thead th {\n",
              "        text-align: right;\n",
              "    }\n",
              "</style>\n",
              "<table border=\"1\" class=\"dataframe\">\n",
              "  <thead>\n",
              "    <tr style=\"text-align: right;\">\n",
              "      <th></th>\n",
              "      <th>Air temperature [K]</th>\n",
              "      <th>Process temperature [K]</th>\n",
              "      <th>Rotational speed [rpm]</th>\n",
              "      <th>Torque [Nm]</th>\n",
              "      <th>Tool wear [min]</th>\n",
              "      <th>Machine failure</th>\n",
              "      <th>TWF</th>\n",
              "      <th>HDF</th>\n",
              "      <th>PWF</th>\n",
              "      <th>OSF</th>\n",
              "      <th>RNF</th>\n",
              "    </tr>\n",
              "  </thead>\n",
              "  <tbody>\n",
              "    <tr>\n",
              "      <th>count</th>\n",
              "      <td>10000.000000</td>\n",
              "      <td>10000.000000</td>\n",
              "      <td>10000.000000</td>\n",
              "      <td>10000.000000</td>\n",
              "      <td>10000.000000</td>\n",
              "      <td>10000.000000</td>\n",
              "      <td>10000.000000</td>\n",
              "      <td>10000.000000</td>\n",
              "      <td>10000.000000</td>\n",
              "      <td>10000.000000</td>\n",
              "      <td>10000.00000</td>\n",
              "    </tr>\n",
              "    <tr>\n",
              "      <th>mean</th>\n",
              "      <td>300.004930</td>\n",
              "      <td>310.005560</td>\n",
              "      <td>1538.776100</td>\n",
              "      <td>39.986910</td>\n",
              "      <td>107.951000</td>\n",
              "      <td>0.033900</td>\n",
              "      <td>0.004600</td>\n",
              "      <td>0.011500</td>\n",
              "      <td>0.009500</td>\n",
              "      <td>0.009800</td>\n",
              "      <td>0.00190</td>\n",
              "    </tr>\n",
              "    <tr>\n",
              "      <th>std</th>\n",
              "      <td>2.000259</td>\n",
              "      <td>1.483734</td>\n",
              "      <td>179.284096</td>\n",
              "      <td>9.968934</td>\n",
              "      <td>63.654147</td>\n",
              "      <td>0.180981</td>\n",
              "      <td>0.067671</td>\n",
              "      <td>0.106625</td>\n",
              "      <td>0.097009</td>\n",
              "      <td>0.098514</td>\n",
              "      <td>0.04355</td>\n",
              "    </tr>\n",
              "    <tr>\n",
              "      <th>min</th>\n",
              "      <td>295.300000</td>\n",
              "      <td>305.700000</td>\n",
              "      <td>1168.000000</td>\n",
              "      <td>3.800000</td>\n",
              "      <td>0.000000</td>\n",
              "      <td>0.000000</td>\n",
              "      <td>0.000000</td>\n",
              "      <td>0.000000</td>\n",
              "      <td>0.000000</td>\n",
              "      <td>0.000000</td>\n",
              "      <td>0.00000</td>\n",
              "    </tr>\n",
              "    <tr>\n",
              "      <th>25%</th>\n",
              "      <td>298.300000</td>\n",
              "      <td>308.800000</td>\n",
              "      <td>1423.000000</td>\n",
              "      <td>33.200000</td>\n",
              "      <td>53.000000</td>\n",
              "      <td>0.000000</td>\n",
              "      <td>0.000000</td>\n",
              "      <td>0.000000</td>\n",
              "      <td>0.000000</td>\n",
              "      <td>0.000000</td>\n",
              "      <td>0.00000</td>\n",
              "    </tr>\n",
              "    <tr>\n",
              "      <th>50%</th>\n",
              "      <td>300.100000</td>\n",
              "      <td>310.100000</td>\n",
              "      <td>1503.000000</td>\n",
              "      <td>40.100000</td>\n",
              "      <td>108.000000</td>\n",
              "      <td>0.000000</td>\n",
              "      <td>0.000000</td>\n",
              "      <td>0.000000</td>\n",
              "      <td>0.000000</td>\n",
              "      <td>0.000000</td>\n",
              "      <td>0.00000</td>\n",
              "    </tr>\n",
              "    <tr>\n",
              "      <th>75%</th>\n",
              "      <td>301.500000</td>\n",
              "      <td>311.100000</td>\n",
              "      <td>1612.000000</td>\n",
              "      <td>46.800000</td>\n",
              "      <td>162.000000</td>\n",
              "      <td>0.000000</td>\n",
              "      <td>0.000000</td>\n",
              "      <td>0.000000</td>\n",
              "      <td>0.000000</td>\n",
              "      <td>0.000000</td>\n",
              "      <td>0.00000</td>\n",
              "    </tr>\n",
              "    <tr>\n",
              "      <th>max</th>\n",
              "      <td>304.500000</td>\n",
              "      <td>313.800000</td>\n",
              "      <td>2886.000000</td>\n",
              "      <td>76.600000</td>\n",
              "      <td>253.000000</td>\n",
              "      <td>1.000000</td>\n",
              "      <td>1.000000</td>\n",
              "      <td>1.000000</td>\n",
              "      <td>1.000000</td>\n",
              "      <td>1.000000</td>\n",
              "      <td>1.00000</td>\n",
              "    </tr>\n",
              "  </tbody>\n",
              "</table>\n",
              "</div>\n",
              "    <div class=\"colab-df-buttons\">\n",
              "\n",
              "  <div class=\"colab-df-container\">\n",
              "    <button class=\"colab-df-convert\" onclick=\"convertToInteractive('df-3f42a22e-65b6-4349-8aa0-0534bbb23629')\"\n",
              "            title=\"Convert this dataframe to an interactive table.\"\n",
              "            style=\"display:none;\">\n",
              "\n",
              "  <svg xmlns=\"http://www.w3.org/2000/svg\" height=\"24px\" viewBox=\"0 -960 960 960\">\n",
              "    <path d=\"M120-120v-720h720v720H120Zm60-500h600v-160H180v160Zm220 220h160v-160H400v160Zm0 220h160v-160H400v160ZM180-400h160v-160H180v160Zm440 0h160v-160H620v160ZM180-180h160v-160H180v160Zm440 0h160v-160H620v160Z\"/>\n",
              "  </svg>\n",
              "    </button>\n",
              "\n",
              "  <style>\n",
              "    .colab-df-container {\n",
              "      display:flex;\n",
              "      gap: 12px;\n",
              "    }\n",
              "\n",
              "    .colab-df-convert {\n",
              "      background-color: #E8F0FE;\n",
              "      border: none;\n",
              "      border-radius: 50%;\n",
              "      cursor: pointer;\n",
              "      display: none;\n",
              "      fill: #1967D2;\n",
              "      height: 32px;\n",
              "      padding: 0 0 0 0;\n",
              "      width: 32px;\n",
              "    }\n",
              "\n",
              "    .colab-df-convert:hover {\n",
              "      background-color: #E2EBFA;\n",
              "      box-shadow: 0px 1px 2px rgba(60, 64, 67, 0.3), 0px 1px 3px 1px rgba(60, 64, 67, 0.15);\n",
              "      fill: #174EA6;\n",
              "    }\n",
              "\n",
              "    .colab-df-buttons div {\n",
              "      margin-bottom: 4px;\n",
              "    }\n",
              "\n",
              "    [theme=dark] .colab-df-convert {\n",
              "      background-color: #3B4455;\n",
              "      fill: #D2E3FC;\n",
              "    }\n",
              "\n",
              "    [theme=dark] .colab-df-convert:hover {\n",
              "      background-color: #434B5C;\n",
              "      box-shadow: 0px 1px 3px 1px rgba(0, 0, 0, 0.15);\n",
              "      filter: drop-shadow(0px 1px 2px rgba(0, 0, 0, 0.3));\n",
              "      fill: #FFFFFF;\n",
              "    }\n",
              "  </style>\n",
              "\n",
              "    <script>\n",
              "      const buttonEl =\n",
              "        document.querySelector('#df-3f42a22e-65b6-4349-8aa0-0534bbb23629 button.colab-df-convert');\n",
              "      buttonEl.style.display =\n",
              "        google.colab.kernel.accessAllowed ? 'block' : 'none';\n",
              "\n",
              "      async function convertToInteractive(key) {\n",
              "        const element = document.querySelector('#df-3f42a22e-65b6-4349-8aa0-0534bbb23629');\n",
              "        const dataTable =\n",
              "          await google.colab.kernel.invokeFunction('convertToInteractive',\n",
              "                                                    [key], {});\n",
              "        if (!dataTable) return;\n",
              "\n",
              "        const docLinkHtml = 'Like what you see? Visit the ' +\n",
              "          '<a target=\"_blank\" href=https://colab.research.google.com/notebooks/data_table.ipynb>data table notebook</a>'\n",
              "          + ' to learn more about interactive tables.';\n",
              "        element.innerHTML = '';\n",
              "        dataTable['output_type'] = 'display_data';\n",
              "        await google.colab.output.renderOutput(dataTable, element);\n",
              "        const docLink = document.createElement('div');\n",
              "        docLink.innerHTML = docLinkHtml;\n",
              "        element.appendChild(docLink);\n",
              "      }\n",
              "    </script>\n",
              "  </div>\n",
              "\n",
              "\n",
              "<div id=\"df-8070cd34-7e4a-4db5-adc0-c62b123a3439\">\n",
              "  <button class=\"colab-df-quickchart\" onclick=\"quickchart('df-8070cd34-7e4a-4db5-adc0-c62b123a3439')\"\n",
              "            title=\"Suggest charts\"\n",
              "            style=\"display:none;\">\n",
              "\n",
              "<svg xmlns=\"http://www.w3.org/2000/svg\" height=\"24px\"viewBox=\"0 0 24 24\"\n",
              "     width=\"24px\">\n",
              "    <g>\n",
              "        <path d=\"M19 3H5c-1.1 0-2 .9-2 2v14c0 1.1.9 2 2 2h14c1.1 0 2-.9 2-2V5c0-1.1-.9-2-2-2zM9 17H7v-7h2v7zm4 0h-2V7h2v10zm4 0h-2v-4h2v4z\"/>\n",
              "    </g>\n",
              "</svg>\n",
              "  </button>\n",
              "\n",
              "<style>\n",
              "  .colab-df-quickchart {\n",
              "      --bg-color: #E8F0FE;\n",
              "      --fill-color: #1967D2;\n",
              "      --hover-bg-color: #E2EBFA;\n",
              "      --hover-fill-color: #174EA6;\n",
              "      --disabled-fill-color: #AAA;\n",
              "      --disabled-bg-color: #DDD;\n",
              "  }\n",
              "\n",
              "  [theme=dark] .colab-df-quickchart {\n",
              "      --bg-color: #3B4455;\n",
              "      --fill-color: #D2E3FC;\n",
              "      --hover-bg-color: #434B5C;\n",
              "      --hover-fill-color: #FFFFFF;\n",
              "      --disabled-bg-color: #3B4455;\n",
              "      --disabled-fill-color: #666;\n",
              "  }\n",
              "\n",
              "  .colab-df-quickchart {\n",
              "    background-color: var(--bg-color);\n",
              "    border: none;\n",
              "    border-radius: 50%;\n",
              "    cursor: pointer;\n",
              "    display: none;\n",
              "    fill: var(--fill-color);\n",
              "    height: 32px;\n",
              "    padding: 0;\n",
              "    width: 32px;\n",
              "  }\n",
              "\n",
              "  .colab-df-quickchart:hover {\n",
              "    background-color: var(--hover-bg-color);\n",
              "    box-shadow: 0 1px 2px rgba(60, 64, 67, 0.3), 0 1px 3px 1px rgba(60, 64, 67, 0.15);\n",
              "    fill: var(--button-hover-fill-color);\n",
              "  }\n",
              "\n",
              "  .colab-df-quickchart-complete:disabled,\n",
              "  .colab-df-quickchart-complete:disabled:hover {\n",
              "    background-color: var(--disabled-bg-color);\n",
              "    fill: var(--disabled-fill-color);\n",
              "    box-shadow: none;\n",
              "  }\n",
              "\n",
              "  .colab-df-spinner {\n",
              "    border: 2px solid var(--fill-color);\n",
              "    border-color: transparent;\n",
              "    border-bottom-color: var(--fill-color);\n",
              "    animation:\n",
              "      spin 1s steps(1) infinite;\n",
              "  }\n",
              "\n",
              "  @keyframes spin {\n",
              "    0% {\n",
              "      border-color: transparent;\n",
              "      border-bottom-color: var(--fill-color);\n",
              "      border-left-color: var(--fill-color);\n",
              "    }\n",
              "    20% {\n",
              "      border-color: transparent;\n",
              "      border-left-color: var(--fill-color);\n",
              "      border-top-color: var(--fill-color);\n",
              "    }\n",
              "    30% {\n",
              "      border-color: transparent;\n",
              "      border-left-color: var(--fill-color);\n",
              "      border-top-color: var(--fill-color);\n",
              "      border-right-color: var(--fill-color);\n",
              "    }\n",
              "    40% {\n",
              "      border-color: transparent;\n",
              "      border-right-color: var(--fill-color);\n",
              "      border-top-color: var(--fill-color);\n",
              "    }\n",
              "    60% {\n",
              "      border-color: transparent;\n",
              "      border-right-color: var(--fill-color);\n",
              "    }\n",
              "    80% {\n",
              "      border-color: transparent;\n",
              "      border-right-color: var(--fill-color);\n",
              "      border-bottom-color: var(--fill-color);\n",
              "    }\n",
              "    90% {\n",
              "      border-color: transparent;\n",
              "      border-bottom-color: var(--fill-color);\n",
              "    }\n",
              "  }\n",
              "</style>\n",
              "\n",
              "  <script>\n",
              "    async function quickchart(key) {\n",
              "      const quickchartButtonEl =\n",
              "        document.querySelector('#' + key + ' button');\n",
              "      quickchartButtonEl.disabled = true;  // To prevent multiple clicks.\n",
              "      quickchartButtonEl.classList.add('colab-df-spinner');\n",
              "      try {\n",
              "        const charts = await google.colab.kernel.invokeFunction(\n",
              "            'suggestCharts', [key], {});\n",
              "      } catch (error) {\n",
              "        console.error('Error during call to suggestCharts:', error);\n",
              "      }\n",
              "      quickchartButtonEl.classList.remove('colab-df-spinner');\n",
              "      quickchartButtonEl.classList.add('colab-df-quickchart-complete');\n",
              "    }\n",
              "    (() => {\n",
              "      let quickchartButtonEl =\n",
              "        document.querySelector('#df-8070cd34-7e4a-4db5-adc0-c62b123a3439 button');\n",
              "      quickchartButtonEl.style.display =\n",
              "        google.colab.kernel.accessAllowed ? 'block' : 'none';\n",
              "    })();\n",
              "  </script>\n",
              "</div>\n",
              "\n",
              "    </div>\n",
              "  </div>\n"
            ],
            "text/plain": [
              "       Air temperature [K]  Process temperature [K]  Rotational speed [rpm]  \\\n",
              "count         10000.000000             10000.000000            10000.000000   \n",
              "mean            300.004930               310.005560             1538.776100   \n",
              "std               2.000259                 1.483734              179.284096   \n",
              "min             295.300000               305.700000             1168.000000   \n",
              "25%             298.300000               308.800000             1423.000000   \n",
              "50%             300.100000               310.100000             1503.000000   \n",
              "75%             301.500000               311.100000             1612.000000   \n",
              "max             304.500000               313.800000             2886.000000   \n",
              "\n",
              "        Torque [Nm]  Tool wear [min]  Machine failure           TWF  \\\n",
              "count  10000.000000     10000.000000     10000.000000  10000.000000   \n",
              "mean      39.986910       107.951000         0.033900      0.004600   \n",
              "std        9.968934        63.654147         0.180981      0.067671   \n",
              "min        3.800000         0.000000         0.000000      0.000000   \n",
              "25%       33.200000        53.000000         0.000000      0.000000   \n",
              "50%       40.100000       108.000000         0.000000      0.000000   \n",
              "75%       46.800000       162.000000         0.000000      0.000000   \n",
              "max       76.600000       253.000000         1.000000      1.000000   \n",
              "\n",
              "                HDF           PWF           OSF          RNF  \n",
              "count  10000.000000  10000.000000  10000.000000  10000.00000  \n",
              "mean       0.011500      0.009500      0.009800      0.00190  \n",
              "std        0.106625      0.097009      0.098514      0.04355  \n",
              "min        0.000000      0.000000      0.000000      0.00000  \n",
              "25%        0.000000      0.000000      0.000000      0.00000  \n",
              "50%        0.000000      0.000000      0.000000      0.00000  \n",
              "75%        0.000000      0.000000      0.000000      0.00000  \n",
              "max        1.000000      1.000000      1.000000      1.00000  "
            ]
          },
          "execution_count": 7,
          "metadata": {},
          "output_type": "execute_result"
        }
      ],
      "source": [
        "df.describe()"
      ]
    },
    {
      "cell_type": "markdown",
      "metadata": {
        "id": "432ULzqN6yPE"
      },
      "source": [
        "2.4 Dublikatlarni olib tashlash"
      ]
    },
    {
      "cell_type": "code",
      "execution_count": null,
      "metadata": {
        "id": "uhfz0Ey47rCc"
      },
      "outputs": [],
      "source": [
        "df.drop_duplicates(inplace=True,ignore_index=True)"
      ]
    },
    {
      "cell_type": "markdown",
      "metadata": {
        "id": "rqZ8K8nf6_o8"
      },
      "source": [
        "2.5 Categorical ustunni raqamli ko'rinishga o'tkazish"
      ]
    },
    {
      "cell_type": "code",
      "execution_count": null,
      "metadata": {
        "id": "U12WDnoH7y-q"
      },
      "outputs": [],
      "source": [
        "le = LabelEncoder()\n",
        "df['Type'] = le.fit_transform(df['Type'])"
      ]
    },
    {
      "cell_type": "code",
      "execution_count": null,
      "metadata": {
        "id": "C7mB9v3lbZ5i"
      },
      "outputs": [],
      "source": [
        "# Now we can check if all numerical values are >= 0\n",
        "assert (df.drop('Type', axis=1) >= 0).all().all()"
      ]
    },
    {
      "cell_type": "markdown",
      "metadata": {
        "id": "BuBjquc1rxhh"
      },
      "source": [
        "2.5 Keyenchalik xatolar bermasligi uchun ustun nomlatidagi bo'sk joylarni _ almashtirish"
      ]
    },
    {
      "cell_type": "code",
      "execution_count": null,
      "metadata": {
        "id": "v65tV9IZrvrR"
      },
      "outputs": [],
      "source": [
        "for column in df.columns:\n",
        "    df.rename(columns=lambda column: column.replace(' ', '_').replace('[', '').replace(']', ''), inplace=True)"
      ]
    },
    {
      "cell_type": "markdown",
      "metadata": {
        "id": "98g8tgap7gPi"
      },
      "source": [
        "#3. Ma'lumotlarni tahlil qilish (EDA)"
      ]
    },
    {
      "cell_type": "markdown",
      "metadata": {
        "id": "cvlOGfuP8sgv"
      },
      "source": [
        "3.1 Statistik ma'lumotlarni ko'rish"
      ]
    },
    {
      "cell_type": "code",
      "execution_count": null,
      "metadata": {
        "colab": {
          "base_uri": "https://localhost:8080/"
        },
        "id": "CUb5W-KUulT9",
        "outputId": "73deab81-7a2b-4f48-9fdc-327fd26d68ed"
      },
      "outputs": [
        {
          "name": "stdout",
          "output_type": "stream",
          "text": [
            "Dataset shape: (10000, 12)\n"
          ]
        }
      ],
      "source": [
        "print(\"Dataset shape:\", df.shape)"
      ]
    },
    {
      "cell_type": "code",
      "execution_count": null,
      "metadata": {
        "colab": {
          "base_uri": "https://localhost:8080/"
        },
        "id": "w3nJofAkuoQs",
        "outputId": "caf8d562-18b9-4a4b-a67c-4ec4e3758c33"
      },
      "outputs": [
        {
          "name": "stdout",
          "output_type": "stream",
          "text": [
            "\n",
            "Dataset columns:\n",
            " Index(['Type', 'Air_temperature_K', 'Process_temperature_K',\n",
            "       'Rotational_speed_rpm', 'Torque_Nm', 'Tool_wear_min', 'Machine_failure',\n",
            "       'TWF', 'HDF', 'PWF', 'OSF', 'RNF'],\n",
            "      dtype='object')\n"
          ]
        }
      ],
      "source": [
        "print(\"\\nDataset columns:\\n\", df.columns)"
      ]
    },
    {
      "cell_type": "code",
      "execution_count": null,
      "metadata": {
        "colab": {
          "base_uri": "https://localhost:8080/"
        },
        "id": "4rp3PDEYBJmq",
        "outputId": "91177e9b-82be-4f1c-bb58-510573903902"
      },
      "outputs": [
        {
          "name": "stdout",
          "output_type": "stream",
          "text": [
            "\n",
            "Dataset info:\n",
            "\n",
            "<class 'pandas.core.frame.DataFrame'>\n",
            "RangeIndex: 10000 entries, 0 to 9999\n",
            "Data columns (total 12 columns):\n",
            " #   Column                 Non-Null Count  Dtype  \n",
            "---  ------                 --------------  -----  \n",
            " 0   Type                   10000 non-null  int64  \n",
            " 1   Air_temperature_K      10000 non-null  float64\n",
            " 2   Process_temperature_K  10000 non-null  float64\n",
            " 3   Rotational_speed_rpm   10000 non-null  int64  \n",
            " 4   Torque_Nm              10000 non-null  float64\n",
            " 5   Tool_wear_min          10000 non-null  int64  \n",
            " 6   Machine_failure        10000 non-null  int64  \n",
            " 7   TWF                    10000 non-null  int64  \n",
            " 8   HDF                    10000 non-null  int64  \n",
            " 9   PWF                    10000 non-null  int64  \n",
            " 10  OSF                    10000 non-null  int64  \n",
            " 11  RNF                    10000 non-null  int64  \n",
            "dtypes: float64(3), int64(9)\n",
            "memory usage: 937.6 KB\n"
          ]
        }
      ],
      "source": [
        "print(\"\\nDataset info:\\n\")\n",
        "df.info()"
      ]
    },
    {
      "cell_type": "code",
      "execution_count": null,
      "metadata": {
        "colab": {
          "base_uri": "https://localhost:8080/",
          "height": 458
        },
        "id": "JVdykBqZuvBi",
        "outputId": "f98a34db-4c24-4fa7-99ba-ccdc38ce29e5"
      },
      "outputs": [
        {
          "data": {
            "text/html": [
              "<div>\n",
              "<style scoped>\n",
              "    .dataframe tbody tr th:only-of-type {\n",
              "        vertical-align: middle;\n",
              "    }\n",
              "\n",
              "    .dataframe tbody tr th {\n",
              "        vertical-align: top;\n",
              "    }\n",
              "\n",
              "    .dataframe thead th {\n",
              "        text-align: right;\n",
              "    }\n",
              "</style>\n",
              "<table border=\"1\" class=\"dataframe\">\n",
              "  <thead>\n",
              "    <tr style=\"text-align: right;\">\n",
              "      <th></th>\n",
              "      <th>Type</th>\n",
              "    </tr>\n",
              "  </thead>\n",
              "  <tbody>\n",
              "    <tr>\n",
              "      <th>0</th>\n",
              "      <td>2</td>\n",
              "    </tr>\n",
              "    <tr>\n",
              "      <th>1</th>\n",
              "      <td>1</td>\n",
              "    </tr>\n",
              "    <tr>\n",
              "      <th>2</th>\n",
              "      <td>1</td>\n",
              "    </tr>\n",
              "    <tr>\n",
              "      <th>3</th>\n",
              "      <td>1</td>\n",
              "    </tr>\n",
              "    <tr>\n",
              "      <th>4</th>\n",
              "      <td>1</td>\n",
              "    </tr>\n",
              "    <tr>\n",
              "      <th>...</th>\n",
              "      <td>...</td>\n",
              "    </tr>\n",
              "    <tr>\n",
              "      <th>9995</th>\n",
              "      <td>2</td>\n",
              "    </tr>\n",
              "    <tr>\n",
              "      <th>9996</th>\n",
              "      <td>0</td>\n",
              "    </tr>\n",
              "    <tr>\n",
              "      <th>9997</th>\n",
              "      <td>2</td>\n",
              "    </tr>\n",
              "    <tr>\n",
              "      <th>9998</th>\n",
              "      <td>0</td>\n",
              "    </tr>\n",
              "    <tr>\n",
              "      <th>9999</th>\n",
              "      <td>2</td>\n",
              "    </tr>\n",
              "  </tbody>\n",
              "</table>\n",
              "<p>10000 rows × 1 columns</p>\n",
              "</div><br><label><b>dtype:</b> category</label>"
            ],
            "text/plain": [
              "0       2\n",
              "1       1\n",
              "2       1\n",
              "3       1\n",
              "4       1\n",
              "       ..\n",
              "9995    2\n",
              "9996    0\n",
              "9997    2\n",
              "9998    0\n",
              "9999    2\n",
              "Name: Type, Length: 10000, dtype: category\n",
              "Categories (3, int64): [0, 1, 2]"
            ]
          },
          "execution_count": 15,
          "metadata": {},
          "output_type": "execute_result"
        }
      ],
      "source": [
        "df.Type.astype('category')"
      ]
    },
    {
      "cell_type": "code",
      "execution_count": null,
      "metadata": {
        "colab": {
          "base_uri": "https://localhost:8080/",
          "height": 206
        },
        "id": "OOHr5g9eawjj",
        "outputId": "e933942f-f3f1-4359-ddbf-b7e6f8a25147"
      },
      "outputs": [
        {
          "data": {
            "application/vnd.google.colaboratory.intrinsic+json": {
              "summary": "{\n  \"name\": \"df\",\n  \"rows\": 10000,\n  \"fields\": [\n    {\n      \"column\": \"Type\",\n      \"properties\": {\n        \"dtype\": \"number\",\n        \"std\": 0,\n        \"min\": 0,\n        \"max\": 2,\n        \"num_unique_values\": 3,\n        \"samples\": [\n          2,\n          1,\n          0\n        ],\n        \"semantic_type\": \"\",\n        \"description\": \"\"\n      }\n    },\n    {\n      \"column\": \"Air_temperature_K\",\n      \"properties\": {\n        \"dtype\": \"number\",\n        \"std\": 2.0002586829157574,\n        \"min\": 295.3,\n        \"max\": 304.5,\n        \"num_unique_values\": 93,\n        \"samples\": [\n          299.3,\n          296.9,\n          300.8\n        ],\n        \"semantic_type\": \"\",\n        \"description\": \"\"\n      }\n    },\n    {\n      \"column\": \"Process_temperature_K\",\n      \"properties\": {\n        \"dtype\": \"number\",\n        \"std\": 1.4837342191657419,\n        \"min\": 305.7,\n        \"max\": 313.8,\n        \"num_unique_values\": 82,\n        \"samples\": [\n          307.2,\n          308.6,\n          310.1\n        ],\n        \"semantic_type\": \"\",\n        \"description\": \"\"\n      }\n    },\n    {\n      \"column\": \"Rotational_speed_rpm\",\n      \"properties\": {\n        \"dtype\": \"number\",\n        \"std\": 179,\n        \"min\": 1168,\n        \"max\": 2886,\n        \"num_unique_values\": 941,\n        \"samples\": [\n          1274,\n          1576,\n          2010\n        ],\n        \"semantic_type\": \"\",\n        \"description\": \"\"\n      }\n    },\n    {\n      \"column\": \"Torque_Nm\",\n      \"properties\": {\n        \"dtype\": \"number\",\n        \"std\": 9.968933725121401,\n        \"min\": 3.8,\n        \"max\": 76.6,\n        \"num_unique_values\": 577,\n        \"samples\": [\n          36.1,\n          65.9,\n          12.6\n        ],\n        \"semantic_type\": \"\",\n        \"description\": \"\"\n      }\n    },\n    {\n      \"column\": \"Tool_wear_min\",\n      \"properties\": {\n        \"dtype\": \"number\",\n        \"std\": 63,\n        \"min\": 0,\n        \"max\": 253,\n        \"num_unique_values\": 246,\n        \"samples\": [\n          93,\n          14,\n          215\n        ],\n        \"semantic_type\": \"\",\n        \"description\": \"\"\n      }\n    },\n    {\n      \"column\": \"Machine_failure\",\n      \"properties\": {\n        \"dtype\": \"number\",\n        \"std\": 0,\n        \"min\": 0,\n        \"max\": 1,\n        \"num_unique_values\": 2,\n        \"samples\": [\n          1,\n          0\n        ],\n        \"semantic_type\": \"\",\n        \"description\": \"\"\n      }\n    },\n    {\n      \"column\": \"TWF\",\n      \"properties\": {\n        \"dtype\": \"number\",\n        \"std\": 0,\n        \"min\": 0,\n        \"max\": 1,\n        \"num_unique_values\": 2,\n        \"samples\": [\n          1,\n          0\n        ],\n        \"semantic_type\": \"\",\n        \"description\": \"\"\n      }\n    },\n    {\n      \"column\": \"HDF\",\n      \"properties\": {\n        \"dtype\": \"number\",\n        \"std\": 0,\n        \"min\": 0,\n        \"max\": 1,\n        \"num_unique_values\": 2,\n        \"samples\": [\n          1,\n          0\n        ],\n        \"semantic_type\": \"\",\n        \"description\": \"\"\n      }\n    },\n    {\n      \"column\": \"PWF\",\n      \"properties\": {\n        \"dtype\": \"number\",\n        \"std\": 0,\n        \"min\": 0,\n        \"max\": 1,\n        \"num_unique_values\": 2,\n        \"samples\": [\n          1,\n          0\n        ],\n        \"semantic_type\": \"\",\n        \"description\": \"\"\n      }\n    },\n    {\n      \"column\": \"OSF\",\n      \"properties\": {\n        \"dtype\": \"number\",\n        \"std\": 0,\n        \"min\": 0,\n        \"max\": 1,\n        \"num_unique_values\": 2,\n        \"samples\": [\n          1,\n          0\n        ],\n        \"semantic_type\": \"\",\n        \"description\": \"\"\n      }\n    },\n    {\n      \"column\": \"RNF\",\n      \"properties\": {\n        \"dtype\": \"number\",\n        \"std\": 0,\n        \"min\": 0,\n        \"max\": 1,\n        \"num_unique_values\": 2,\n        \"samples\": [\n          1,\n          0\n        ],\n        \"semantic_type\": \"\",\n        \"description\": \"\"\n      }\n    }\n  ]\n}",
              "type": "dataframe",
              "variable_name": "df"
            },
            "text/html": [
              "\n",
              "  <div id=\"df-a8edfedd-4e28-4368-93f4-86b48d4b08a1\" class=\"colab-df-container\">\n",
              "    <div>\n",
              "<style scoped>\n",
              "    .dataframe tbody tr th:only-of-type {\n",
              "        vertical-align: middle;\n",
              "    }\n",
              "\n",
              "    .dataframe tbody tr th {\n",
              "        vertical-align: top;\n",
              "    }\n",
              "\n",
              "    .dataframe thead th {\n",
              "        text-align: right;\n",
              "    }\n",
              "</style>\n",
              "<table border=\"1\" class=\"dataframe\">\n",
              "  <thead>\n",
              "    <tr style=\"text-align: right;\">\n",
              "      <th></th>\n",
              "      <th>Type</th>\n",
              "      <th>Air_temperature_K</th>\n",
              "      <th>Process_temperature_K</th>\n",
              "      <th>Rotational_speed_rpm</th>\n",
              "      <th>Torque_Nm</th>\n",
              "      <th>Tool_wear_min</th>\n",
              "      <th>Machine_failure</th>\n",
              "      <th>TWF</th>\n",
              "      <th>HDF</th>\n",
              "      <th>PWF</th>\n",
              "      <th>OSF</th>\n",
              "      <th>RNF</th>\n",
              "    </tr>\n",
              "  </thead>\n",
              "  <tbody>\n",
              "    <tr>\n",
              "      <th>0</th>\n",
              "      <td>2</td>\n",
              "      <td>298.1</td>\n",
              "      <td>308.6</td>\n",
              "      <td>1551</td>\n",
              "      <td>42.8</td>\n",
              "      <td>0</td>\n",
              "      <td>0</td>\n",
              "      <td>0</td>\n",
              "      <td>0</td>\n",
              "      <td>0</td>\n",
              "      <td>0</td>\n",
              "      <td>0</td>\n",
              "    </tr>\n",
              "    <tr>\n",
              "      <th>1</th>\n",
              "      <td>1</td>\n",
              "      <td>298.2</td>\n",
              "      <td>308.7</td>\n",
              "      <td>1408</td>\n",
              "      <td>46.3</td>\n",
              "      <td>3</td>\n",
              "      <td>0</td>\n",
              "      <td>0</td>\n",
              "      <td>0</td>\n",
              "      <td>0</td>\n",
              "      <td>0</td>\n",
              "      <td>0</td>\n",
              "    </tr>\n",
              "    <tr>\n",
              "      <th>2</th>\n",
              "      <td>1</td>\n",
              "      <td>298.1</td>\n",
              "      <td>308.5</td>\n",
              "      <td>1498</td>\n",
              "      <td>49.4</td>\n",
              "      <td>5</td>\n",
              "      <td>0</td>\n",
              "      <td>0</td>\n",
              "      <td>0</td>\n",
              "      <td>0</td>\n",
              "      <td>0</td>\n",
              "      <td>0</td>\n",
              "    </tr>\n",
              "    <tr>\n",
              "      <th>3</th>\n",
              "      <td>1</td>\n",
              "      <td>298.2</td>\n",
              "      <td>308.6</td>\n",
              "      <td>1433</td>\n",
              "      <td>39.5</td>\n",
              "      <td>7</td>\n",
              "      <td>0</td>\n",
              "      <td>0</td>\n",
              "      <td>0</td>\n",
              "      <td>0</td>\n",
              "      <td>0</td>\n",
              "      <td>0</td>\n",
              "    </tr>\n",
              "    <tr>\n",
              "      <th>4</th>\n",
              "      <td>1</td>\n",
              "      <td>298.2</td>\n",
              "      <td>308.7</td>\n",
              "      <td>1408</td>\n",
              "      <td>40.0</td>\n",
              "      <td>9</td>\n",
              "      <td>0</td>\n",
              "      <td>0</td>\n",
              "      <td>0</td>\n",
              "      <td>0</td>\n",
              "      <td>0</td>\n",
              "      <td>0</td>\n",
              "    </tr>\n",
              "  </tbody>\n",
              "</table>\n",
              "</div>\n",
              "    <div class=\"colab-df-buttons\">\n",
              "\n",
              "  <div class=\"colab-df-container\">\n",
              "    <button class=\"colab-df-convert\" onclick=\"convertToInteractive('df-a8edfedd-4e28-4368-93f4-86b48d4b08a1')\"\n",
              "            title=\"Convert this dataframe to an interactive table.\"\n",
              "            style=\"display:none;\">\n",
              "\n",
              "  <svg xmlns=\"http://www.w3.org/2000/svg\" height=\"24px\" viewBox=\"0 -960 960 960\">\n",
              "    <path d=\"M120-120v-720h720v720H120Zm60-500h600v-160H180v160Zm220 220h160v-160H400v160Zm0 220h160v-160H400v160ZM180-400h160v-160H180v160Zm440 0h160v-160H620v160ZM180-180h160v-160H180v160Zm440 0h160v-160H620v160Z\"/>\n",
              "  </svg>\n",
              "    </button>\n",
              "\n",
              "  <style>\n",
              "    .colab-df-container {\n",
              "      display:flex;\n",
              "      gap: 12px;\n",
              "    }\n",
              "\n",
              "    .colab-df-convert {\n",
              "      background-color: #E8F0FE;\n",
              "      border: none;\n",
              "      border-radius: 50%;\n",
              "      cursor: pointer;\n",
              "      display: none;\n",
              "      fill: #1967D2;\n",
              "      height: 32px;\n",
              "      padding: 0 0 0 0;\n",
              "      width: 32px;\n",
              "    }\n",
              "\n",
              "    .colab-df-convert:hover {\n",
              "      background-color: #E2EBFA;\n",
              "      box-shadow: 0px 1px 2px rgba(60, 64, 67, 0.3), 0px 1px 3px 1px rgba(60, 64, 67, 0.15);\n",
              "      fill: #174EA6;\n",
              "    }\n",
              "\n",
              "    .colab-df-buttons div {\n",
              "      margin-bottom: 4px;\n",
              "    }\n",
              "\n",
              "    [theme=dark] .colab-df-convert {\n",
              "      background-color: #3B4455;\n",
              "      fill: #D2E3FC;\n",
              "    }\n",
              "\n",
              "    [theme=dark] .colab-df-convert:hover {\n",
              "      background-color: #434B5C;\n",
              "      box-shadow: 0px 1px 3px 1px rgba(0, 0, 0, 0.15);\n",
              "      filter: drop-shadow(0px 1px 2px rgba(0, 0, 0, 0.3));\n",
              "      fill: #FFFFFF;\n",
              "    }\n",
              "  </style>\n",
              "\n",
              "    <script>\n",
              "      const buttonEl =\n",
              "        document.querySelector('#df-a8edfedd-4e28-4368-93f4-86b48d4b08a1 button.colab-df-convert');\n",
              "      buttonEl.style.display =\n",
              "        google.colab.kernel.accessAllowed ? 'block' : 'none';\n",
              "\n",
              "      async function convertToInteractive(key) {\n",
              "        const element = document.querySelector('#df-a8edfedd-4e28-4368-93f4-86b48d4b08a1');\n",
              "        const dataTable =\n",
              "          await google.colab.kernel.invokeFunction('convertToInteractive',\n",
              "                                                    [key], {});\n",
              "        if (!dataTable) return;\n",
              "\n",
              "        const docLinkHtml = 'Like what you see? Visit the ' +\n",
              "          '<a target=\"_blank\" href=https://colab.research.google.com/notebooks/data_table.ipynb>data table notebook</a>'\n",
              "          + ' to learn more about interactive tables.';\n",
              "        element.innerHTML = '';\n",
              "        dataTable['output_type'] = 'display_data';\n",
              "        await google.colab.output.renderOutput(dataTable, element);\n",
              "        const docLink = document.createElement('div');\n",
              "        docLink.innerHTML = docLinkHtml;\n",
              "        element.appendChild(docLink);\n",
              "      }\n",
              "    </script>\n",
              "  </div>\n",
              "\n",
              "\n",
              "<div id=\"df-d28da69a-8f2e-4cf6-b018-3c7b7223e489\">\n",
              "  <button class=\"colab-df-quickchart\" onclick=\"quickchart('df-d28da69a-8f2e-4cf6-b018-3c7b7223e489')\"\n",
              "            title=\"Suggest charts\"\n",
              "            style=\"display:none;\">\n",
              "\n",
              "<svg xmlns=\"http://www.w3.org/2000/svg\" height=\"24px\"viewBox=\"0 0 24 24\"\n",
              "     width=\"24px\">\n",
              "    <g>\n",
              "        <path d=\"M19 3H5c-1.1 0-2 .9-2 2v14c0 1.1.9 2 2 2h14c1.1 0 2-.9 2-2V5c0-1.1-.9-2-2-2zM9 17H7v-7h2v7zm4 0h-2V7h2v10zm4 0h-2v-4h2v4z\"/>\n",
              "    </g>\n",
              "</svg>\n",
              "  </button>\n",
              "\n",
              "<style>\n",
              "  .colab-df-quickchart {\n",
              "      --bg-color: #E8F0FE;\n",
              "      --fill-color: #1967D2;\n",
              "      --hover-bg-color: #E2EBFA;\n",
              "      --hover-fill-color: #174EA6;\n",
              "      --disabled-fill-color: #AAA;\n",
              "      --disabled-bg-color: #DDD;\n",
              "  }\n",
              "\n",
              "  [theme=dark] .colab-df-quickchart {\n",
              "      --bg-color: #3B4455;\n",
              "      --fill-color: #D2E3FC;\n",
              "      --hover-bg-color: #434B5C;\n",
              "      --hover-fill-color: #FFFFFF;\n",
              "      --disabled-bg-color: #3B4455;\n",
              "      --disabled-fill-color: #666;\n",
              "  }\n",
              "\n",
              "  .colab-df-quickchart {\n",
              "    background-color: var(--bg-color);\n",
              "    border: none;\n",
              "    border-radius: 50%;\n",
              "    cursor: pointer;\n",
              "    display: none;\n",
              "    fill: var(--fill-color);\n",
              "    height: 32px;\n",
              "    padding: 0;\n",
              "    width: 32px;\n",
              "  }\n",
              "\n",
              "  .colab-df-quickchart:hover {\n",
              "    background-color: var(--hover-bg-color);\n",
              "    box-shadow: 0 1px 2px rgba(60, 64, 67, 0.3), 0 1px 3px 1px rgba(60, 64, 67, 0.15);\n",
              "    fill: var(--button-hover-fill-color);\n",
              "  }\n",
              "\n",
              "  .colab-df-quickchart-complete:disabled,\n",
              "  .colab-df-quickchart-complete:disabled:hover {\n",
              "    background-color: var(--disabled-bg-color);\n",
              "    fill: var(--disabled-fill-color);\n",
              "    box-shadow: none;\n",
              "  }\n",
              "\n",
              "  .colab-df-spinner {\n",
              "    border: 2px solid var(--fill-color);\n",
              "    border-color: transparent;\n",
              "    border-bottom-color: var(--fill-color);\n",
              "    animation:\n",
              "      spin 1s steps(1) infinite;\n",
              "  }\n",
              "\n",
              "  @keyframes spin {\n",
              "    0% {\n",
              "      border-color: transparent;\n",
              "      border-bottom-color: var(--fill-color);\n",
              "      border-left-color: var(--fill-color);\n",
              "    }\n",
              "    20% {\n",
              "      border-color: transparent;\n",
              "      border-left-color: var(--fill-color);\n",
              "      border-top-color: var(--fill-color);\n",
              "    }\n",
              "    30% {\n",
              "      border-color: transparent;\n",
              "      border-left-color: var(--fill-color);\n",
              "      border-top-color: var(--fill-color);\n",
              "      border-right-color: var(--fill-color);\n",
              "    }\n",
              "    40% {\n",
              "      border-color: transparent;\n",
              "      border-right-color: var(--fill-color);\n",
              "      border-top-color: var(--fill-color);\n",
              "    }\n",
              "    60% {\n",
              "      border-color: transparent;\n",
              "      border-right-color: var(--fill-color);\n",
              "    }\n",
              "    80% {\n",
              "      border-color: transparent;\n",
              "      border-right-color: var(--fill-color);\n",
              "      border-bottom-color: var(--fill-color);\n",
              "    }\n",
              "    90% {\n",
              "      border-color: transparent;\n",
              "      border-bottom-color: var(--fill-color);\n",
              "    }\n",
              "  }\n",
              "</style>\n",
              "\n",
              "  <script>\n",
              "    async function quickchart(key) {\n",
              "      const quickchartButtonEl =\n",
              "        document.querySelector('#' + key + ' button');\n",
              "      quickchartButtonEl.disabled = true;  // To prevent multiple clicks.\n",
              "      quickchartButtonEl.classList.add('colab-df-spinner');\n",
              "      try {\n",
              "        const charts = await google.colab.kernel.invokeFunction(\n",
              "            'suggestCharts', [key], {});\n",
              "      } catch (error) {\n",
              "        console.error('Error during call to suggestCharts:', error);\n",
              "      }\n",
              "      quickchartButtonEl.classList.remove('colab-df-spinner');\n",
              "      quickchartButtonEl.classList.add('colab-df-quickchart-complete');\n",
              "    }\n",
              "    (() => {\n",
              "      let quickchartButtonEl =\n",
              "        document.querySelector('#df-d28da69a-8f2e-4cf6-b018-3c7b7223e489 button');\n",
              "      quickchartButtonEl.style.display =\n",
              "        google.colab.kernel.accessAllowed ? 'block' : 'none';\n",
              "    })();\n",
              "  </script>\n",
              "</div>\n",
              "\n",
              "    </div>\n",
              "  </div>\n"
            ],
            "text/plain": [
              "   Type  Air_temperature_K  Process_temperature_K  Rotational_speed_rpm  \\\n",
              "0     2              298.1                  308.6                  1551   \n",
              "1     1              298.2                  308.7                  1408   \n",
              "2     1              298.1                  308.5                  1498   \n",
              "3     1              298.2                  308.6                  1433   \n",
              "4     1              298.2                  308.7                  1408   \n",
              "\n",
              "   Torque_Nm  Tool_wear_min  Machine_failure  TWF  HDF  PWF  OSF  RNF  \n",
              "0       42.8              0                0    0    0    0    0    0  \n",
              "1       46.3              3                0    0    0    0    0    0  \n",
              "2       49.4              5                0    0    0    0    0    0  \n",
              "3       39.5              7                0    0    0    0    0    0  \n",
              "4       40.0              9                0    0    0    0    0    0  "
            ]
          },
          "execution_count": 16,
          "metadata": {},
          "output_type": "execute_result"
        }
      ],
      "source": [
        "df.head()"
      ]
    },
    {
      "cell_type": "code",
      "execution_count": null,
      "metadata": {
        "colab": {
          "base_uri": "https://localhost:8080/",
          "height": 206
        },
        "id": "_4U4sVNBu_MW",
        "outputId": "7528c0b8-2ba5-4821-ce9f-9f0fb44b9a1c"
      },
      "outputs": [
        {
          "data": {
            "application/vnd.google.colaboratory.intrinsic+json": {
              "summary": "{\n  \"name\": \"df\",\n  \"rows\": 5,\n  \"fields\": [\n    {\n      \"column\": \"Type\",\n      \"properties\": {\n        \"dtype\": \"number\",\n        \"std\": 1,\n        \"min\": 0,\n        \"max\": 2,\n        \"num_unique_values\": 2,\n        \"samples\": [\n          0,\n          2\n        ],\n        \"semantic_type\": \"\",\n        \"description\": \"\"\n      }\n    },\n    {\n      \"column\": \"Air_temperature_K\",\n      \"properties\": {\n        \"dtype\": \"number\",\n        \"std\": 0.08944271909998967,\n        \"min\": 298.8,\n        \"max\": 299.0,\n        \"num_unique_values\": 3,\n        \"samples\": [\n          298.8,\n          298.9\n        ],\n        \"semantic_type\": \"\",\n        \"description\": \"\"\n      }\n    },\n    {\n      \"column\": \"Process_temperature_K\",\n      \"properties\": {\n        \"dtype\": \"number\",\n        \"std\": 0.15165750888103927,\n        \"min\": 308.4,\n        \"max\": 308.7,\n        \"num_unique_values\": 3,\n        \"samples\": [\n          308.4,\n          308.6\n        ],\n        \"semantic_type\": \"\",\n        \"description\": \"\"\n      }\n    },\n    {\n      \"column\": \"Rotational_speed_rpm\",\n      \"properties\": {\n        \"dtype\": \"number\",\n        \"std\": 101,\n        \"min\": 1408,\n        \"max\": 1645,\n        \"num_unique_values\": 5,\n        \"samples\": [\n          1632,\n          1500\n        ],\n        \"semantic_type\": \"\",\n        \"description\": \"\"\n      }\n    },\n    {\n      \"column\": \"Torque_Nm\",\n      \"properties\": {\n        \"dtype\": \"number\",\n        \"std\": 7.717318187038812,\n        \"min\": 29.5,\n        \"max\": 48.5,\n        \"num_unique_values\": 5,\n        \"samples\": [\n          31.8,\n          40.2\n        ],\n        \"semantic_type\": \"\",\n        \"description\": \"\"\n      }\n    },\n    {\n      \"column\": \"Tool_wear_min\",\n      \"properties\": {\n        \"dtype\": \"number\",\n        \"std\": 6,\n        \"min\": 14,\n        \"max\": 30,\n        \"num_unique_values\": 5,\n        \"samples\": [\n          17,\n          30\n        ],\n        \"semantic_type\": \"\",\n        \"description\": \"\"\n      }\n    },\n    {\n      \"column\": \"Machine_failure\",\n      \"properties\": {\n        \"dtype\": \"number\",\n        \"std\": 0,\n        \"min\": 0,\n        \"max\": 0,\n        \"num_unique_values\": 1,\n        \"samples\": [\n          0\n        ],\n        \"semantic_type\": \"\",\n        \"description\": \"\"\n      }\n    },\n    {\n      \"column\": \"TWF\",\n      \"properties\": {\n        \"dtype\": \"number\",\n        \"std\": 0,\n        \"min\": 0,\n        \"max\": 0,\n        \"num_unique_values\": 1,\n        \"samples\": [\n          0\n        ],\n        \"semantic_type\": \"\",\n        \"description\": \"\"\n      }\n    },\n    {\n      \"column\": \"HDF\",\n      \"properties\": {\n        \"dtype\": \"number\",\n        \"std\": 0,\n        \"min\": 0,\n        \"max\": 0,\n        \"num_unique_values\": 1,\n        \"samples\": [\n          0\n        ],\n        \"semantic_type\": \"\",\n        \"description\": \"\"\n      }\n    },\n    {\n      \"column\": \"PWF\",\n      \"properties\": {\n        \"dtype\": \"number\",\n        \"std\": 0,\n        \"min\": 0,\n        \"max\": 0,\n        \"num_unique_values\": 1,\n        \"samples\": [\n          0\n        ],\n        \"semantic_type\": \"\",\n        \"description\": \"\"\n      }\n    },\n    {\n      \"column\": \"OSF\",\n      \"properties\": {\n        \"dtype\": \"number\",\n        \"std\": 0,\n        \"min\": 0,\n        \"max\": 0,\n        \"num_unique_values\": 1,\n        \"samples\": [\n          0\n        ],\n        \"semantic_type\": \"\",\n        \"description\": \"\"\n      }\n    },\n    {\n      \"column\": \"RNF\",\n      \"properties\": {\n        \"dtype\": \"number\",\n        \"std\": 0,\n        \"min\": 0,\n        \"max\": 0,\n        \"num_unique_values\": 1,\n        \"samples\": [\n          0\n        ],\n        \"semantic_type\": \"\",\n        \"description\": \"\"\n      }\n    }\n  ]\n}",
              "type": "dataframe"
            },
            "text/html": [
              "\n",
              "  <div id=\"df-43175f62-64b9-4406-b629-c9d5ffa3d720\" class=\"colab-df-container\">\n",
              "    <div>\n",
              "<style scoped>\n",
              "    .dataframe tbody tr th:only-of-type {\n",
              "        vertical-align: middle;\n",
              "    }\n",
              "\n",
              "    .dataframe tbody tr th {\n",
              "        vertical-align: top;\n",
              "    }\n",
              "\n",
              "    .dataframe thead th {\n",
              "        text-align: right;\n",
              "    }\n",
              "</style>\n",
              "<table border=\"1\" class=\"dataframe\">\n",
              "  <thead>\n",
              "    <tr style=\"text-align: right;\">\n",
              "      <th></th>\n",
              "      <th>Type</th>\n",
              "      <th>Air_temperature_K</th>\n",
              "      <th>Process_temperature_K</th>\n",
              "      <th>Rotational_speed_rpm</th>\n",
              "      <th>Torque_Nm</th>\n",
              "      <th>Tool_wear_min</th>\n",
              "      <th>Machine_failure</th>\n",
              "      <th>TWF</th>\n",
              "      <th>HDF</th>\n",
              "      <th>PWF</th>\n",
              "      <th>OSF</th>\n",
              "      <th>RNF</th>\n",
              "    </tr>\n",
              "  </thead>\n",
              "  <tbody>\n",
              "    <tr>\n",
              "      <th>9995</th>\n",
              "      <td>2</td>\n",
              "      <td>298.8</td>\n",
              "      <td>308.4</td>\n",
              "      <td>1604</td>\n",
              "      <td>29.5</td>\n",
              "      <td>14</td>\n",
              "      <td>0</td>\n",
              "      <td>0</td>\n",
              "      <td>0</td>\n",
              "      <td>0</td>\n",
              "      <td>0</td>\n",
              "      <td>0</td>\n",
              "    </tr>\n",
              "    <tr>\n",
              "      <th>9996</th>\n",
              "      <td>0</td>\n",
              "      <td>298.9</td>\n",
              "      <td>308.4</td>\n",
              "      <td>1632</td>\n",
              "      <td>31.8</td>\n",
              "      <td>17</td>\n",
              "      <td>0</td>\n",
              "      <td>0</td>\n",
              "      <td>0</td>\n",
              "      <td>0</td>\n",
              "      <td>0</td>\n",
              "      <td>0</td>\n",
              "    </tr>\n",
              "    <tr>\n",
              "      <th>9997</th>\n",
              "      <td>2</td>\n",
              "      <td>299.0</td>\n",
              "      <td>308.6</td>\n",
              "      <td>1645</td>\n",
              "      <td>33.4</td>\n",
              "      <td>22</td>\n",
              "      <td>0</td>\n",
              "      <td>0</td>\n",
              "      <td>0</td>\n",
              "      <td>0</td>\n",
              "      <td>0</td>\n",
              "      <td>0</td>\n",
              "    </tr>\n",
              "    <tr>\n",
              "      <th>9998</th>\n",
              "      <td>0</td>\n",
              "      <td>299.0</td>\n",
              "      <td>308.7</td>\n",
              "      <td>1408</td>\n",
              "      <td>48.5</td>\n",
              "      <td>25</td>\n",
              "      <td>0</td>\n",
              "      <td>0</td>\n",
              "      <td>0</td>\n",
              "      <td>0</td>\n",
              "      <td>0</td>\n",
              "      <td>0</td>\n",
              "    </tr>\n",
              "    <tr>\n",
              "      <th>9999</th>\n",
              "      <td>2</td>\n",
              "      <td>299.0</td>\n",
              "      <td>308.7</td>\n",
              "      <td>1500</td>\n",
              "      <td>40.2</td>\n",
              "      <td>30</td>\n",
              "      <td>0</td>\n",
              "      <td>0</td>\n",
              "      <td>0</td>\n",
              "      <td>0</td>\n",
              "      <td>0</td>\n",
              "      <td>0</td>\n",
              "    </tr>\n",
              "  </tbody>\n",
              "</table>\n",
              "</div>\n",
              "    <div class=\"colab-df-buttons\">\n",
              "\n",
              "  <div class=\"colab-df-container\">\n",
              "    <button class=\"colab-df-convert\" onclick=\"convertToInteractive('df-43175f62-64b9-4406-b629-c9d5ffa3d720')\"\n",
              "            title=\"Convert this dataframe to an interactive table.\"\n",
              "            style=\"display:none;\">\n",
              "\n",
              "  <svg xmlns=\"http://www.w3.org/2000/svg\" height=\"24px\" viewBox=\"0 -960 960 960\">\n",
              "    <path d=\"M120-120v-720h720v720H120Zm60-500h600v-160H180v160Zm220 220h160v-160H400v160Zm0 220h160v-160H400v160ZM180-400h160v-160H180v160Zm440 0h160v-160H620v160ZM180-180h160v-160H180v160Zm440 0h160v-160H620v160Z\"/>\n",
              "  </svg>\n",
              "    </button>\n",
              "\n",
              "  <style>\n",
              "    .colab-df-container {\n",
              "      display:flex;\n",
              "      gap: 12px;\n",
              "    }\n",
              "\n",
              "    .colab-df-convert {\n",
              "      background-color: #E8F0FE;\n",
              "      border: none;\n",
              "      border-radius: 50%;\n",
              "      cursor: pointer;\n",
              "      display: none;\n",
              "      fill: #1967D2;\n",
              "      height: 32px;\n",
              "      padding: 0 0 0 0;\n",
              "      width: 32px;\n",
              "    }\n",
              "\n",
              "    .colab-df-convert:hover {\n",
              "      background-color: #E2EBFA;\n",
              "      box-shadow: 0px 1px 2px rgba(60, 64, 67, 0.3), 0px 1px 3px 1px rgba(60, 64, 67, 0.15);\n",
              "      fill: #174EA6;\n",
              "    }\n",
              "\n",
              "    .colab-df-buttons div {\n",
              "      margin-bottom: 4px;\n",
              "    }\n",
              "\n",
              "    [theme=dark] .colab-df-convert {\n",
              "      background-color: #3B4455;\n",
              "      fill: #D2E3FC;\n",
              "    }\n",
              "\n",
              "    [theme=dark] .colab-df-convert:hover {\n",
              "      background-color: #434B5C;\n",
              "      box-shadow: 0px 1px 3px 1px rgba(0, 0, 0, 0.15);\n",
              "      filter: drop-shadow(0px 1px 2px rgba(0, 0, 0, 0.3));\n",
              "      fill: #FFFFFF;\n",
              "    }\n",
              "  </style>\n",
              "\n",
              "    <script>\n",
              "      const buttonEl =\n",
              "        document.querySelector('#df-43175f62-64b9-4406-b629-c9d5ffa3d720 button.colab-df-convert');\n",
              "      buttonEl.style.display =\n",
              "        google.colab.kernel.accessAllowed ? 'block' : 'none';\n",
              "\n",
              "      async function convertToInteractive(key) {\n",
              "        const element = document.querySelector('#df-43175f62-64b9-4406-b629-c9d5ffa3d720');\n",
              "        const dataTable =\n",
              "          await google.colab.kernel.invokeFunction('convertToInteractive',\n",
              "                                                    [key], {});\n",
              "        if (!dataTable) return;\n",
              "\n",
              "        const docLinkHtml = 'Like what you see? Visit the ' +\n",
              "          '<a target=\"_blank\" href=https://colab.research.google.com/notebooks/data_table.ipynb>data table notebook</a>'\n",
              "          + ' to learn more about interactive tables.';\n",
              "        element.innerHTML = '';\n",
              "        dataTable['output_type'] = 'display_data';\n",
              "        await google.colab.output.renderOutput(dataTable, element);\n",
              "        const docLink = document.createElement('div');\n",
              "        docLink.innerHTML = docLinkHtml;\n",
              "        element.appendChild(docLink);\n",
              "      }\n",
              "    </script>\n",
              "  </div>\n",
              "\n",
              "\n",
              "<div id=\"df-5308ba96-5e14-49a4-ae03-e6e61af5b9c2\">\n",
              "  <button class=\"colab-df-quickchart\" onclick=\"quickchart('df-5308ba96-5e14-49a4-ae03-e6e61af5b9c2')\"\n",
              "            title=\"Suggest charts\"\n",
              "            style=\"display:none;\">\n",
              "\n",
              "<svg xmlns=\"http://www.w3.org/2000/svg\" height=\"24px\"viewBox=\"0 0 24 24\"\n",
              "     width=\"24px\">\n",
              "    <g>\n",
              "        <path d=\"M19 3H5c-1.1 0-2 .9-2 2v14c0 1.1.9 2 2 2h14c1.1 0 2-.9 2-2V5c0-1.1-.9-2-2-2zM9 17H7v-7h2v7zm4 0h-2V7h2v10zm4 0h-2v-4h2v4z\"/>\n",
              "    </g>\n",
              "</svg>\n",
              "  </button>\n",
              "\n",
              "<style>\n",
              "  .colab-df-quickchart {\n",
              "      --bg-color: #E8F0FE;\n",
              "      --fill-color: #1967D2;\n",
              "      --hover-bg-color: #E2EBFA;\n",
              "      --hover-fill-color: #174EA6;\n",
              "      --disabled-fill-color: #AAA;\n",
              "      --disabled-bg-color: #DDD;\n",
              "  }\n",
              "\n",
              "  [theme=dark] .colab-df-quickchart {\n",
              "      --bg-color: #3B4455;\n",
              "      --fill-color: #D2E3FC;\n",
              "      --hover-bg-color: #434B5C;\n",
              "      --hover-fill-color: #FFFFFF;\n",
              "      --disabled-bg-color: #3B4455;\n",
              "      --disabled-fill-color: #666;\n",
              "  }\n",
              "\n",
              "  .colab-df-quickchart {\n",
              "    background-color: var(--bg-color);\n",
              "    border: none;\n",
              "    border-radius: 50%;\n",
              "    cursor: pointer;\n",
              "    display: none;\n",
              "    fill: var(--fill-color);\n",
              "    height: 32px;\n",
              "    padding: 0;\n",
              "    width: 32px;\n",
              "  }\n",
              "\n",
              "  .colab-df-quickchart:hover {\n",
              "    background-color: var(--hover-bg-color);\n",
              "    box-shadow: 0 1px 2px rgba(60, 64, 67, 0.3), 0 1px 3px 1px rgba(60, 64, 67, 0.15);\n",
              "    fill: var(--button-hover-fill-color);\n",
              "  }\n",
              "\n",
              "  .colab-df-quickchart-complete:disabled,\n",
              "  .colab-df-quickchart-complete:disabled:hover {\n",
              "    background-color: var(--disabled-bg-color);\n",
              "    fill: var(--disabled-fill-color);\n",
              "    box-shadow: none;\n",
              "  }\n",
              "\n",
              "  .colab-df-spinner {\n",
              "    border: 2px solid var(--fill-color);\n",
              "    border-color: transparent;\n",
              "    border-bottom-color: var(--fill-color);\n",
              "    animation:\n",
              "      spin 1s steps(1) infinite;\n",
              "  }\n",
              "\n",
              "  @keyframes spin {\n",
              "    0% {\n",
              "      border-color: transparent;\n",
              "      border-bottom-color: var(--fill-color);\n",
              "      border-left-color: var(--fill-color);\n",
              "    }\n",
              "    20% {\n",
              "      border-color: transparent;\n",
              "      border-left-color: var(--fill-color);\n",
              "      border-top-color: var(--fill-color);\n",
              "    }\n",
              "    30% {\n",
              "      border-color: transparent;\n",
              "      border-left-color: var(--fill-color);\n",
              "      border-top-color: var(--fill-color);\n",
              "      border-right-color: var(--fill-color);\n",
              "    }\n",
              "    40% {\n",
              "      border-color: transparent;\n",
              "      border-right-color: var(--fill-color);\n",
              "      border-top-color: var(--fill-color);\n",
              "    }\n",
              "    60% {\n",
              "      border-color: transparent;\n",
              "      border-right-color: var(--fill-color);\n",
              "    }\n",
              "    80% {\n",
              "      border-color: transparent;\n",
              "      border-right-color: var(--fill-color);\n",
              "      border-bottom-color: var(--fill-color);\n",
              "    }\n",
              "    90% {\n",
              "      border-color: transparent;\n",
              "      border-bottom-color: var(--fill-color);\n",
              "    }\n",
              "  }\n",
              "</style>\n",
              "\n",
              "  <script>\n",
              "    async function quickchart(key) {\n",
              "      const quickchartButtonEl =\n",
              "        document.querySelector('#' + key + ' button');\n",
              "      quickchartButtonEl.disabled = true;  // To prevent multiple clicks.\n",
              "      quickchartButtonEl.classList.add('colab-df-spinner');\n",
              "      try {\n",
              "        const charts = await google.colab.kernel.invokeFunction(\n",
              "            'suggestCharts', [key], {});\n",
              "      } catch (error) {\n",
              "        console.error('Error during call to suggestCharts:', error);\n",
              "      }\n",
              "      quickchartButtonEl.classList.remove('colab-df-spinner');\n",
              "      quickchartButtonEl.classList.add('colab-df-quickchart-complete');\n",
              "    }\n",
              "    (() => {\n",
              "      let quickchartButtonEl =\n",
              "        document.querySelector('#df-5308ba96-5e14-49a4-ae03-e6e61af5b9c2 button');\n",
              "      quickchartButtonEl.style.display =\n",
              "        google.colab.kernel.accessAllowed ? 'block' : 'none';\n",
              "    })();\n",
              "  </script>\n",
              "</div>\n",
              "\n",
              "    </div>\n",
              "  </div>\n"
            ],
            "text/plain": [
              "      Type  Air_temperature_K  Process_temperature_K  Rotational_speed_rpm  \\\n",
              "9995     2              298.8                  308.4                  1604   \n",
              "9996     0              298.9                  308.4                  1632   \n",
              "9997     2              299.0                  308.6                  1645   \n",
              "9998     0              299.0                  308.7                  1408   \n",
              "9999     2              299.0                  308.7                  1500   \n",
              "\n",
              "      Torque_Nm  Tool_wear_min  Machine_failure  TWF  HDF  PWF  OSF  RNF  \n",
              "9995       29.5             14                0    0    0    0    0    0  \n",
              "9996       31.8             17                0    0    0    0    0    0  \n",
              "9997       33.4             22                0    0    0    0    0    0  \n",
              "9998       48.5             25                0    0    0    0    0    0  \n",
              "9999       40.2             30                0    0    0    0    0    0  "
            ]
          },
          "execution_count": 17,
          "metadata": {},
          "output_type": "execute_result"
        }
      ],
      "source": [
        "df.tail()"
      ]
    },
    {
      "cell_type": "code",
      "execution_count": null,
      "metadata": {
        "colab": {
          "base_uri": "https://localhost:8080/",
          "height": 320
        },
        "id": "u0MDjUM3Hsgt",
        "outputId": "78ae9a07-dae1-4ebe-bfd4-fdf0835f9da0"
      },
      "outputs": [
        {
          "data": {
            "application/vnd.google.colaboratory.intrinsic+json": {
              "summary": "{\n  \"name\": \"df\",\n  \"rows\": 8,\n  \"fields\": [\n    {\n      \"column\": \"Type\",\n      \"properties\": {\n        \"dtype\": \"number\",\n        \"std\": 3535.1400279471777,\n        \"min\": 0.0,\n        \"max\": 10000.0,\n        \"num_unique_values\": 6,\n        \"samples\": [\n          10000.0,\n          1.1994,\n          2.0\n        ],\n        \"semantic_type\": \"\",\n        \"description\": \"\"\n      }\n    },\n    {\n      \"column\": \"Air_temperature_K\",\n      \"properties\": {\n        \"dtype\": \"number\",\n        \"std\": 3446.112587891836,\n        \"min\": 2.0002586829157574,\n        \"max\": 10000.0,\n        \"num_unique_values\": 8,\n        \"samples\": [\n          300.00493,\n          300.1,\n          10000.0\n        ],\n        \"semantic_type\": \"\",\n        \"description\": \"\"\n      }\n    },\n    {\n      \"column\": \"Process_temperature_K\",\n      \"properties\": {\n        \"dtype\": \"number\",\n        \"std\": 3443.232448462189,\n        \"min\": 1.4837342191657419,\n        \"max\": 10000.0,\n        \"num_unique_values\": 8,\n        \"samples\": [\n          310.00556,\n          310.1,\n          10000.0\n        ],\n        \"semantic_type\": \"\",\n        \"description\": \"\"\n      }\n    },\n    {\n      \"column\": \"Rotational_speed_rpm\",\n      \"properties\": {\n        \"dtype\": \"number\",\n        \"std\": 3103.301433905864,\n        \"min\": 179.28409591342628,\n        \"max\": 10000.0,\n        \"num_unique_values\": 8,\n        \"samples\": [\n          1538.7761,\n          1503.0,\n          10000.0\n        ],\n        \"semantic_type\": \"\",\n        \"description\": \"\"\n      }\n    },\n    {\n      \"column\": \"Torque_Nm\",\n      \"properties\": {\n        \"dtype\": \"number\",\n        \"std\": 3522.9553380464768,\n        \"min\": 3.8,\n        \"max\": 10000.0,\n        \"num_unique_values\": 8,\n        \"samples\": [\n          39.986909999999995,\n          40.1,\n          10000.0\n        ],\n        \"semantic_type\": \"\",\n        \"description\": \"\"\n      }\n    },\n    {\n      \"column\": \"Tool_wear_min\",\n      \"properties\": {\n        \"dtype\": \"number\",\n        \"std\": 3498.6028684989537,\n        \"min\": 0.0,\n        \"max\": 10000.0,\n        \"num_unique_values\": 8,\n        \"samples\": [\n          107.951,\n          108.0,\n          10000.0\n        ],\n        \"semantic_type\": \"\",\n        \"description\": \"\"\n      }\n    },\n    {\n      \"column\": \"Machine_failure\",\n      \"properties\": {\n        \"dtype\": \"number\",\n        \"std\": 3535.4725618125285,\n        \"min\": 0.0,\n        \"max\": 10000.0,\n        \"num_unique_values\": 5,\n        \"samples\": [\n          0.0339,\n          1.0,\n          0.18098084265064265\n        ],\n        \"semantic_type\": \"\",\n        \"description\": \"\"\n      }\n    },\n    {\n      \"column\": \"TWF\",\n      \"properties\": {\n        \"dtype\": \"number\",\n        \"std\": 3535.479765071392,\n        \"min\": 0.0,\n        \"max\": 10000.0,\n        \"num_unique_values\": 5,\n        \"samples\": [\n          0.0046,\n          1.0,\n          0.06767051004531742\n        ],\n        \"semantic_type\": \"\",\n        \"description\": \"\"\n      }\n    },\n    {\n      \"column\": \"HDF\",\n      \"properties\": {\n        \"dtype\": \"number\",\n        \"std\": 3535.477448920331,\n        \"min\": 0.0,\n        \"max\": 10000.0,\n        \"num_unique_values\": 5,\n        \"samples\": [\n          0.0115,\n          1.0,\n          0.10662498247917784\n        ],\n        \"semantic_type\": \"\",\n        \"description\": \"\"\n      }\n    },\n    {\n      \"column\": \"PWF\",\n      \"properties\": {\n        \"dtype\": \"number\",\n        \"std\": 3535.4780356645374,\n        \"min\": 0.0,\n        \"max\": 10000.0,\n        \"num_unique_values\": 5,\n        \"samples\": [\n          0.0095,\n          1.0,\n          0.09700871645943188\n        ],\n        \"semantic_type\": \"\",\n        \"description\": \"\"\n      }\n    },\n    {\n      \"column\": \"OSF\",\n      \"properties\": {\n        \"dtype\": \"number\",\n        \"std\": 3535.4779444983915,\n        \"min\": 0.0,\n        \"max\": 10000.0,\n        \"num_unique_values\": 5,\n        \"samples\": [\n          0.0098,\n          1.0,\n          0.09851360562404972\n        ],\n        \"semantic_type\": \"\",\n        \"description\": \"\"\n      }\n    },\n    {\n      \"column\": \"RNF\",\n      \"properties\": {\n        \"dtype\": \"number\",\n        \"std\": 3535.481119834332,\n        \"min\": 0.0,\n        \"max\": 10000.0,\n        \"num_unique_values\": 5,\n        \"samples\": [\n          0.0019,\n          1.0,\n          0.04354973774853278\n        ],\n        \"semantic_type\": \"\",\n        \"description\": \"\"\n      }\n    }\n  ]\n}",
              "type": "dataframe"
            },
            "text/html": [
              "\n",
              "  <div id=\"df-d5c52658-3ff7-444d-bfea-69149477d707\" class=\"colab-df-container\">\n",
              "    <div>\n",
              "<style scoped>\n",
              "    .dataframe tbody tr th:only-of-type {\n",
              "        vertical-align: middle;\n",
              "    }\n",
              "\n",
              "    .dataframe tbody tr th {\n",
              "        vertical-align: top;\n",
              "    }\n",
              "\n",
              "    .dataframe thead th {\n",
              "        text-align: right;\n",
              "    }\n",
              "</style>\n",
              "<table border=\"1\" class=\"dataframe\">\n",
              "  <thead>\n",
              "    <tr style=\"text-align: right;\">\n",
              "      <th></th>\n",
              "      <th>Type</th>\n",
              "      <th>Air_temperature_K</th>\n",
              "      <th>Process_temperature_K</th>\n",
              "      <th>Rotational_speed_rpm</th>\n",
              "      <th>Torque_Nm</th>\n",
              "      <th>Tool_wear_min</th>\n",
              "      <th>Machine_failure</th>\n",
              "      <th>TWF</th>\n",
              "      <th>HDF</th>\n",
              "      <th>PWF</th>\n",
              "      <th>OSF</th>\n",
              "      <th>RNF</th>\n",
              "    </tr>\n",
              "  </thead>\n",
              "  <tbody>\n",
              "    <tr>\n",
              "      <th>count</th>\n",
              "      <td>10000.00000</td>\n",
              "      <td>10000.000000</td>\n",
              "      <td>10000.000000</td>\n",
              "      <td>10000.000000</td>\n",
              "      <td>10000.000000</td>\n",
              "      <td>10000.000000</td>\n",
              "      <td>10000.000000</td>\n",
              "      <td>10000.000000</td>\n",
              "      <td>10000.000000</td>\n",
              "      <td>10000.000000</td>\n",
              "      <td>10000.000000</td>\n",
              "      <td>10000.00000</td>\n",
              "    </tr>\n",
              "    <tr>\n",
              "      <th>mean</th>\n",
              "      <td>1.19940</td>\n",
              "      <td>300.004930</td>\n",
              "      <td>310.005560</td>\n",
              "      <td>1538.776100</td>\n",
              "      <td>39.986910</td>\n",
              "      <td>107.951000</td>\n",
              "      <td>0.033900</td>\n",
              "      <td>0.004600</td>\n",
              "      <td>0.011500</td>\n",
              "      <td>0.009500</td>\n",
              "      <td>0.009800</td>\n",
              "      <td>0.00190</td>\n",
              "    </tr>\n",
              "    <tr>\n",
              "      <th>std</th>\n",
              "      <td>0.60023</td>\n",
              "      <td>2.000259</td>\n",
              "      <td>1.483734</td>\n",
              "      <td>179.284096</td>\n",
              "      <td>9.968934</td>\n",
              "      <td>63.654147</td>\n",
              "      <td>0.180981</td>\n",
              "      <td>0.067671</td>\n",
              "      <td>0.106625</td>\n",
              "      <td>0.097009</td>\n",
              "      <td>0.098514</td>\n",
              "      <td>0.04355</td>\n",
              "    </tr>\n",
              "    <tr>\n",
              "      <th>min</th>\n",
              "      <td>0.00000</td>\n",
              "      <td>295.300000</td>\n",
              "      <td>305.700000</td>\n",
              "      <td>1168.000000</td>\n",
              "      <td>3.800000</td>\n",
              "      <td>0.000000</td>\n",
              "      <td>0.000000</td>\n",
              "      <td>0.000000</td>\n",
              "      <td>0.000000</td>\n",
              "      <td>0.000000</td>\n",
              "      <td>0.000000</td>\n",
              "      <td>0.00000</td>\n",
              "    </tr>\n",
              "    <tr>\n",
              "      <th>25%</th>\n",
              "      <td>1.00000</td>\n",
              "      <td>298.300000</td>\n",
              "      <td>308.800000</td>\n",
              "      <td>1423.000000</td>\n",
              "      <td>33.200000</td>\n",
              "      <td>53.000000</td>\n",
              "      <td>0.000000</td>\n",
              "      <td>0.000000</td>\n",
              "      <td>0.000000</td>\n",
              "      <td>0.000000</td>\n",
              "      <td>0.000000</td>\n",
              "      <td>0.00000</td>\n",
              "    </tr>\n",
              "    <tr>\n",
              "      <th>50%</th>\n",
              "      <td>1.00000</td>\n",
              "      <td>300.100000</td>\n",
              "      <td>310.100000</td>\n",
              "      <td>1503.000000</td>\n",
              "      <td>40.100000</td>\n",
              "      <td>108.000000</td>\n",
              "      <td>0.000000</td>\n",
              "      <td>0.000000</td>\n",
              "      <td>0.000000</td>\n",
              "      <td>0.000000</td>\n",
              "      <td>0.000000</td>\n",
              "      <td>0.00000</td>\n",
              "    </tr>\n",
              "    <tr>\n",
              "      <th>75%</th>\n",
              "      <td>2.00000</td>\n",
              "      <td>301.500000</td>\n",
              "      <td>311.100000</td>\n",
              "      <td>1612.000000</td>\n",
              "      <td>46.800000</td>\n",
              "      <td>162.000000</td>\n",
              "      <td>0.000000</td>\n",
              "      <td>0.000000</td>\n",
              "      <td>0.000000</td>\n",
              "      <td>0.000000</td>\n",
              "      <td>0.000000</td>\n",
              "      <td>0.00000</td>\n",
              "    </tr>\n",
              "    <tr>\n",
              "      <th>max</th>\n",
              "      <td>2.00000</td>\n",
              "      <td>304.500000</td>\n",
              "      <td>313.800000</td>\n",
              "      <td>2886.000000</td>\n",
              "      <td>76.600000</td>\n",
              "      <td>253.000000</td>\n",
              "      <td>1.000000</td>\n",
              "      <td>1.000000</td>\n",
              "      <td>1.000000</td>\n",
              "      <td>1.000000</td>\n",
              "      <td>1.000000</td>\n",
              "      <td>1.00000</td>\n",
              "    </tr>\n",
              "  </tbody>\n",
              "</table>\n",
              "</div>\n",
              "    <div class=\"colab-df-buttons\">\n",
              "\n",
              "  <div class=\"colab-df-container\">\n",
              "    <button class=\"colab-df-convert\" onclick=\"convertToInteractive('df-d5c52658-3ff7-444d-bfea-69149477d707')\"\n",
              "            title=\"Convert this dataframe to an interactive table.\"\n",
              "            style=\"display:none;\">\n",
              "\n",
              "  <svg xmlns=\"http://www.w3.org/2000/svg\" height=\"24px\" viewBox=\"0 -960 960 960\">\n",
              "    <path d=\"M120-120v-720h720v720H120Zm60-500h600v-160H180v160Zm220 220h160v-160H400v160Zm0 220h160v-160H400v160ZM180-400h160v-160H180v160Zm440 0h160v-160H620v160ZM180-180h160v-160H180v160Zm440 0h160v-160H620v160Z\"/>\n",
              "  </svg>\n",
              "    </button>\n",
              "\n",
              "  <style>\n",
              "    .colab-df-container {\n",
              "      display:flex;\n",
              "      gap: 12px;\n",
              "    }\n",
              "\n",
              "    .colab-df-convert {\n",
              "      background-color: #E8F0FE;\n",
              "      border: none;\n",
              "      border-radius: 50%;\n",
              "      cursor: pointer;\n",
              "      display: none;\n",
              "      fill: #1967D2;\n",
              "      height: 32px;\n",
              "      padding: 0 0 0 0;\n",
              "      width: 32px;\n",
              "    }\n",
              "\n",
              "    .colab-df-convert:hover {\n",
              "      background-color: #E2EBFA;\n",
              "      box-shadow: 0px 1px 2px rgba(60, 64, 67, 0.3), 0px 1px 3px 1px rgba(60, 64, 67, 0.15);\n",
              "      fill: #174EA6;\n",
              "    }\n",
              "\n",
              "    .colab-df-buttons div {\n",
              "      margin-bottom: 4px;\n",
              "    }\n",
              "\n",
              "    [theme=dark] .colab-df-convert {\n",
              "      background-color: #3B4455;\n",
              "      fill: #D2E3FC;\n",
              "    }\n",
              "\n",
              "    [theme=dark] .colab-df-convert:hover {\n",
              "      background-color: #434B5C;\n",
              "      box-shadow: 0px 1px 3px 1px rgba(0, 0, 0, 0.15);\n",
              "      filter: drop-shadow(0px 1px 2px rgba(0, 0, 0, 0.3));\n",
              "      fill: #FFFFFF;\n",
              "    }\n",
              "  </style>\n",
              "\n",
              "    <script>\n",
              "      const buttonEl =\n",
              "        document.querySelector('#df-d5c52658-3ff7-444d-bfea-69149477d707 button.colab-df-convert');\n",
              "      buttonEl.style.display =\n",
              "        google.colab.kernel.accessAllowed ? 'block' : 'none';\n",
              "\n",
              "      async function convertToInteractive(key) {\n",
              "        const element = document.querySelector('#df-d5c52658-3ff7-444d-bfea-69149477d707');\n",
              "        const dataTable =\n",
              "          await google.colab.kernel.invokeFunction('convertToInteractive',\n",
              "                                                    [key], {});\n",
              "        if (!dataTable) return;\n",
              "\n",
              "        const docLinkHtml = 'Like what you see? Visit the ' +\n",
              "          '<a target=\"_blank\" href=https://colab.research.google.com/notebooks/data_table.ipynb>data table notebook</a>'\n",
              "          + ' to learn more about interactive tables.';\n",
              "        element.innerHTML = '';\n",
              "        dataTable['output_type'] = 'display_data';\n",
              "        await google.colab.output.renderOutput(dataTable, element);\n",
              "        const docLink = document.createElement('div');\n",
              "        docLink.innerHTML = docLinkHtml;\n",
              "        element.appendChild(docLink);\n",
              "      }\n",
              "    </script>\n",
              "  </div>\n",
              "\n",
              "\n",
              "<div id=\"df-f701e7eb-f333-4611-9043-1662b1a14cd9\">\n",
              "  <button class=\"colab-df-quickchart\" onclick=\"quickchart('df-f701e7eb-f333-4611-9043-1662b1a14cd9')\"\n",
              "            title=\"Suggest charts\"\n",
              "            style=\"display:none;\">\n",
              "\n",
              "<svg xmlns=\"http://www.w3.org/2000/svg\" height=\"24px\"viewBox=\"0 0 24 24\"\n",
              "     width=\"24px\">\n",
              "    <g>\n",
              "        <path d=\"M19 3H5c-1.1 0-2 .9-2 2v14c0 1.1.9 2 2 2h14c1.1 0 2-.9 2-2V5c0-1.1-.9-2-2-2zM9 17H7v-7h2v7zm4 0h-2V7h2v10zm4 0h-2v-4h2v4z\"/>\n",
              "    </g>\n",
              "</svg>\n",
              "  </button>\n",
              "\n",
              "<style>\n",
              "  .colab-df-quickchart {\n",
              "      --bg-color: #E8F0FE;\n",
              "      --fill-color: #1967D2;\n",
              "      --hover-bg-color: #E2EBFA;\n",
              "      --hover-fill-color: #174EA6;\n",
              "      --disabled-fill-color: #AAA;\n",
              "      --disabled-bg-color: #DDD;\n",
              "  }\n",
              "\n",
              "  [theme=dark] .colab-df-quickchart {\n",
              "      --bg-color: #3B4455;\n",
              "      --fill-color: #D2E3FC;\n",
              "      --hover-bg-color: #434B5C;\n",
              "      --hover-fill-color: #FFFFFF;\n",
              "      --disabled-bg-color: #3B4455;\n",
              "      --disabled-fill-color: #666;\n",
              "  }\n",
              "\n",
              "  .colab-df-quickchart {\n",
              "    background-color: var(--bg-color);\n",
              "    border: none;\n",
              "    border-radius: 50%;\n",
              "    cursor: pointer;\n",
              "    display: none;\n",
              "    fill: var(--fill-color);\n",
              "    height: 32px;\n",
              "    padding: 0;\n",
              "    width: 32px;\n",
              "  }\n",
              "\n",
              "  .colab-df-quickchart:hover {\n",
              "    background-color: var(--hover-bg-color);\n",
              "    box-shadow: 0 1px 2px rgba(60, 64, 67, 0.3), 0 1px 3px 1px rgba(60, 64, 67, 0.15);\n",
              "    fill: var(--button-hover-fill-color);\n",
              "  }\n",
              "\n",
              "  .colab-df-quickchart-complete:disabled,\n",
              "  .colab-df-quickchart-complete:disabled:hover {\n",
              "    background-color: var(--disabled-bg-color);\n",
              "    fill: var(--disabled-fill-color);\n",
              "    box-shadow: none;\n",
              "  }\n",
              "\n",
              "  .colab-df-spinner {\n",
              "    border: 2px solid var(--fill-color);\n",
              "    border-color: transparent;\n",
              "    border-bottom-color: var(--fill-color);\n",
              "    animation:\n",
              "      spin 1s steps(1) infinite;\n",
              "  }\n",
              "\n",
              "  @keyframes spin {\n",
              "    0% {\n",
              "      border-color: transparent;\n",
              "      border-bottom-color: var(--fill-color);\n",
              "      border-left-color: var(--fill-color);\n",
              "    }\n",
              "    20% {\n",
              "      border-color: transparent;\n",
              "      border-left-color: var(--fill-color);\n",
              "      border-top-color: var(--fill-color);\n",
              "    }\n",
              "    30% {\n",
              "      border-color: transparent;\n",
              "      border-left-color: var(--fill-color);\n",
              "      border-top-color: var(--fill-color);\n",
              "      border-right-color: var(--fill-color);\n",
              "    }\n",
              "    40% {\n",
              "      border-color: transparent;\n",
              "      border-right-color: var(--fill-color);\n",
              "      border-top-color: var(--fill-color);\n",
              "    }\n",
              "    60% {\n",
              "      border-color: transparent;\n",
              "      border-right-color: var(--fill-color);\n",
              "    }\n",
              "    80% {\n",
              "      border-color: transparent;\n",
              "      border-right-color: var(--fill-color);\n",
              "      border-bottom-color: var(--fill-color);\n",
              "    }\n",
              "    90% {\n",
              "      border-color: transparent;\n",
              "      border-bottom-color: var(--fill-color);\n",
              "    }\n",
              "  }\n",
              "</style>\n",
              "\n",
              "  <script>\n",
              "    async function quickchart(key) {\n",
              "      const quickchartButtonEl =\n",
              "        document.querySelector('#' + key + ' button');\n",
              "      quickchartButtonEl.disabled = true;  // To prevent multiple clicks.\n",
              "      quickchartButtonEl.classList.add('colab-df-spinner');\n",
              "      try {\n",
              "        const charts = await google.colab.kernel.invokeFunction(\n",
              "            'suggestCharts', [key], {});\n",
              "      } catch (error) {\n",
              "        console.error('Error during call to suggestCharts:', error);\n",
              "      }\n",
              "      quickchartButtonEl.classList.remove('colab-df-spinner');\n",
              "      quickchartButtonEl.classList.add('colab-df-quickchart-complete');\n",
              "    }\n",
              "    (() => {\n",
              "      let quickchartButtonEl =\n",
              "        document.querySelector('#df-f701e7eb-f333-4611-9043-1662b1a14cd9 button');\n",
              "      quickchartButtonEl.style.display =\n",
              "        google.colab.kernel.accessAllowed ? 'block' : 'none';\n",
              "    })();\n",
              "  </script>\n",
              "</div>\n",
              "\n",
              "    </div>\n",
              "  </div>\n"
            ],
            "text/plain": [
              "              Type  Air_temperature_K  Process_temperature_K  \\\n",
              "count  10000.00000       10000.000000           10000.000000   \n",
              "mean       1.19940         300.004930             310.005560   \n",
              "std        0.60023           2.000259               1.483734   \n",
              "min        0.00000         295.300000             305.700000   \n",
              "25%        1.00000         298.300000             308.800000   \n",
              "50%        1.00000         300.100000             310.100000   \n",
              "75%        2.00000         301.500000             311.100000   \n",
              "max        2.00000         304.500000             313.800000   \n",
              "\n",
              "       Rotational_speed_rpm     Torque_Nm  Tool_wear_min  Machine_failure  \\\n",
              "count          10000.000000  10000.000000   10000.000000     10000.000000   \n",
              "mean            1538.776100     39.986910     107.951000         0.033900   \n",
              "std              179.284096      9.968934      63.654147         0.180981   \n",
              "min             1168.000000      3.800000       0.000000         0.000000   \n",
              "25%             1423.000000     33.200000      53.000000         0.000000   \n",
              "50%             1503.000000     40.100000     108.000000         0.000000   \n",
              "75%             1612.000000     46.800000     162.000000         0.000000   \n",
              "max             2886.000000     76.600000     253.000000         1.000000   \n",
              "\n",
              "                TWF           HDF           PWF           OSF          RNF  \n",
              "count  10000.000000  10000.000000  10000.000000  10000.000000  10000.00000  \n",
              "mean       0.004600      0.011500      0.009500      0.009800      0.00190  \n",
              "std        0.067671      0.106625      0.097009      0.098514      0.04355  \n",
              "min        0.000000      0.000000      0.000000      0.000000      0.00000  \n",
              "25%        0.000000      0.000000      0.000000      0.000000      0.00000  \n",
              "50%        0.000000      0.000000      0.000000      0.000000      0.00000  \n",
              "75%        0.000000      0.000000      0.000000      0.000000      0.00000  \n",
              "max        1.000000      1.000000      1.000000      1.000000      1.00000  "
            ]
          },
          "execution_count": 18,
          "metadata": {},
          "output_type": "execute_result"
        }
      ],
      "source": [
        "df.describe()"
      ]
    },
    {
      "cell_type": "markdown",
      "metadata": {
        "id": "V9rS5mh36z_d"
      },
      "source": [
        "3.2 Missing values (yo'q qiymatlar)"
      ]
    },
    {
      "cell_type": "code",
      "execution_count": null,
      "metadata": {
        "colab": {
          "base_uri": "https://localhost:8080/"
        },
        "id": "op5buBDRbHlr",
        "outputId": "a4876435-7f32-4b06-900c-6857f114e888"
      },
      "outputs": [
        {
          "name": "stdout",
          "output_type": "stream",
          "text": [
            "\n",
            "Missing values:\n",
            " Type                     0\n",
            "Air_temperature_K        0\n",
            "Process_temperature_K    0\n",
            "Rotational_speed_rpm     0\n",
            "Torque_Nm                0\n",
            "Tool_wear_min            0\n",
            "Machine_failure          0\n",
            "TWF                      0\n",
            "HDF                      0\n",
            "PWF                      0\n",
            "OSF                      0\n",
            "RNF                      0\n",
            "dtype: int64\n"
          ]
        }
      ],
      "source": [
        "print(\"\\nMissing values:\\n\", df.isnull().sum()) # Yo'q qiymatlar yo'qligini tekshirish"
      ]
    },
    {
      "cell_type": "markdown",
      "metadata": {
        "id": "HoRy9Ixa9Cgx"
      },
      "source": [
        "3.3 Skewness and Kurtosis"
      ]
    },
    {
      "cell_type": "code",
      "execution_count": null,
      "metadata": {
        "colab": {
          "base_uri": "https://localhost:8080/"
        },
        "id": "RylOlU3v7-Bf",
        "outputId": "d44aaeaa-128d-43bd-def5-f9c0948e2f86"
      },
      "outputs": [
        {
          "name": "stdout",
          "output_type": "stream",
          "text": [
            "\n",
            "Skewness of Type: -0.11112593274680271\n",
            "Kurtosis of Type: -0.4440689662988193\n",
            "\n",
            "Skewness of Air_temperature_K: 0.11427392052155042\n",
            "Kurtosis of Air_temperature_K: -0.8359616725774668\n",
            "\n",
            "Skewness of Process_temperature_K: 0.015027267769228572\n",
            "Kurtosis of Process_temperature_K: -0.4997343650161423\n",
            "\n",
            "Skewness of Rotational_speed_rpm: 1.9931710047137523\n",
            "Kurtosis of Rotational_speed_rpm: 7.392944899246485\n",
            "\n",
            "Skewness of Torque_Nm: -0.00951659584005855\n",
            "Kurtosis of Torque_Nm: -0.013240614017021368\n",
            "\n",
            "Skewness of Tool_wear_min: 0.027292239050452527\n",
            "Kurtosis of Tool_wear_min: -1.1667371315780541\n",
            "\n",
            "Skewness of Machine_failure: 5.151851785192755\n",
            "Kurtosis of Machine_failure: 24.546486073902745\n",
            "\n",
            "Skewness of TWF: 14.644461804356506\n",
            "Kurtosis of TWF: 212.5027620525133\n",
            "\n",
            "Skewness of HDF: 9.164788742436428\n",
            "Kurtosis of HDF: 82.00975460473452\n",
            "\n",
            "Skewness of PWF: 10.114516252342675\n",
            "Kurtosis of PWF: 100.3235036800374\n",
            "\n",
            "Skewness of OSF: 9.953915634416003\n",
            "Kurtosis of OSF: 97.09985638873347\n",
            "\n",
            "Skewness of RNF: 22.87957015055937\n",
            "Kurtosis of RNF: 521.5790460456591\n"
          ]
        }
      ],
      "source": [
        "for column in df.columns:\n",
        "    if df[column].dtype != 'object': # Apply only to numerical columns\n",
        "        print(f\"\\nSkewness of {column}: {df[column].skew()}\")\n",
        "        print(f\"Kurtosis of {column}: {df[column].kurt()}\")"
      ]
    },
    {
      "cell_type": "markdown",
      "metadata": {
        "id": "Su7WiS_v9HTX"
      },
      "source": [
        "3.4 Target variable distribution\n",
        "\n",
        "Klassifikatsiya uchun"
      ]
    },
    {
      "cell_type": "code",
      "execution_count": null,
      "metadata": {
        "colab": {
          "base_uri": "https://localhost:8080/"
        },
        "id": "-Mn92IsVbpaN",
        "outputId": "4bec2192-0597-4dda-ddf2-019ba7f3c2d0"
      },
      "outputs": [
        {
          "name": "stdout",
          "output_type": "stream",
          "text": [
            "\n",
            "Distribution of 'Machine_failure':\n",
            " Machine_failure\n",
            "0    9661\n",
            "1     339\n",
            "Name: count, dtype: int64\n"
          ]
        },
        {
          "data": {
            "image/png": "[encoded data removed]",
            "text/plain": [
              "<Figure size 800x600 with 1 Axes>"
            ]
          },
          "metadata": {},
          "output_type": "display_data"
        }
      ],
      "source": [
        "print(\"\\nDistribution of 'Machine_failure':\\n\", df['Machine_failure'].value_counts())\n",
        "plt.figure(figsize=(8, 6))\n",
        "sns.countplot(x='Machine_failure', data=df)\n",
        "plt.title(\"Distribution of Machine failure\")\n",
        "plt.show()"
      ]
    },
    {
      "cell_type": "markdown",
      "metadata": {
        "id": "_TfGrMKU9Psv"
      },
      "source": [
        "Regressiya uchun"
      ]
    },
    {
      "cell_type": "code",
      "execution_count": null,
      "metadata": {
        "colab": {
          "base_uri": "https://localhost:8080/"
        },
        "id": "uYxD450XbtvR",
        "outputId": "cf077099-615d-410b-bd87-601f3d1223aa"
      },
      "outputs": [
        {
          "name": "stdout",
          "output_type": "stream",
          "text": [
            "\n",
            "Distribution of 'Torque_Nm':\n",
            "\n"
          ]
        },
        {
          "data": {
            "image/png": "[encoded data removed]",
            "text/plain": [
              "<Figure size 800x600 with 1 Axes>"
            ]
          },
          "metadata": {},
          "output_type": "display_data"
        }
      ],
      "source": [
        "print(\"\\nDistribution of 'Torque_Nm':\\n\")\n",
        "plt.figure(figsize=(8, 6))\n",
        "sns.histplot(df['Torque_Nm'], kde=True)\n",
        "plt.title(\"Distribution of Torque_Nm\")\n",
        "plt.show()"
      ]
    },
    {
      "cell_type": "markdown",
      "metadata": {
        "id": "nr2ukxBN9T1e"
      },
      "source": [
        "3.5 Boshqa ustunlar distribution va Boxplot"
      ]
    },
    {
      "cell_type": "code",
      "execution_count": null,
      "metadata": {
        "colab": {
          "base_uri": "https://localhost:8080/",
          "height": 1000
        },
        "id": "8Dgitd60b2WU",
        "outputId": "8c48ceee-7df8-451c-ce86-2a6ab94a1c69"
      },
      "outputs": [
        {
          "data": {
            "image/png": "[encoded data removed]",
            "text/plain": [
              "<Figure size 1000x400 with 2 Axes>"
            ]
          },
          "metadata": {},
          "output_type": "display_data"
        },
        {
          "data": {
            "image/png": "[encoded data removed]",
            "text/plain": [
              "<Figure size 1000x400 with 2 Axes>"
            ]
          },
          "metadata": {},
          "output_type": "display_data"
        },
        {
          "data": {
            "image/png": "[encoded data removed]",
            "text/plain": [
              "<Figure size 1000x400 with 2 Axes>"
            ]
          },
          "metadata": {},
          "output_type": "display_data"
        },
        {
          "data": {
            "image/png": "[encoded data removed]",
            "text/plain": [
              "<Figure size 1000x400 with 2 Axes>"
            ]
          },
          "metadata": {},
          "output_type": "display_data"
        },
        {
          "data": {
            "image/png": "[encoded data removed]",
            "text/plain": [
              "<Figure size 1000x400 with 2 Axes>"
            ]
          },
          "metadata": {},
          "output_type": "display_data"
        }
      ],
      "source": [
        "for column in df.columns:\n",
        "    if df[column].dtype != 'object':\n",
        "        plt.figure(figsize=(10, 4))\n",
        "\n",
        "        plt.subplot(1, 2, 1)\n",
        "        sns.histplot(df[column], kde=True)\n",
        "        plt.title(f'Histogram of {column}')\n",
        "\n",
        "\n",
        "        plt.subplot(1, 2, 2)\n",
        "        sns.boxplot(y=df[column])\n",
        "        plt.title(f'Boxplot of {column}')\n",
        "\n",
        "\n",
        "        plt.tight_layout()\n",
        "        plt.show()"
      ]
    },
    {
      "cell_type": "markdown",
      "metadata": {
        "id": "p0kSoalb9ZZl"
      },
      "source": [
        "3.6 Univariate analysis\n",
        "\n",
        "Type ustunining Machine failurega bog'liqligi"
      ]
    },
    {
      "cell_type": "code",
      "execution_count": null,
      "metadata": {
        "id": "ppT4rnDEb9vA"
      },
      "outputs": [],
      "source": [
        "sns.barplot(x='Type', y='Machine_failure', data=df)\n",
        "plt.title(\"Relationship between Type and Machine_failure\")\n",
        "plt.show()"
      ]
    },
    {
      "cell_type": "markdown",
      "metadata": {
        "id": "j22t0LLV9mTe"
      },
      "source": [
        "Type ustunining Torque [Nm] ga bog'liqligi"
      ]
    },
    {
      "cell_type": "code",
      "execution_count": null,
      "metadata": {
        "id": "0jqGPVyh9hi0"
      },
      "outputs": [],
      "source": [
        "sns.barplot(x='Type', y='Torque_Nm', data=df)\n",
        "plt.title(\"Relationship between Type and Torque_Nm\")\n",
        "plt.show()"
      ]
    },
    {
      "cell_type": "code",
      "execution_count": null,
      "metadata": {
        "id": "cKHhj0jJcLro"
      },
      "outputs": [],
      "source": [
        "print(\"\\nFrequency distribution of 'Type':\\n\", df['Type'].value_counts())\n",
        "sns.countplot(x='Type', data=df)\n",
        "plt.title(\"Frequency distribution of Type\")\n",
        "plt.show()"
      ]
    },
    {
      "cell_type": "markdown",
      "metadata": {
        "id": "-fKiKYA59tXN"
      },
      "source": [
        "3.7 Multivariate analysis"
      ]
    },
    {
      "cell_type": "code",
      "execution_count": null,
      "metadata": {
        "id": "4xYHZOhhcq1F"
      },
      "outputs": [],
      "source": [
        "correlation = df.corr()\n",
        "correlation"
      ]
    },
    {
      "cell_type": "code",
      "execution_count": null,
      "metadata": {
        "id": "NraxWdUtcZo0"
      },
      "outputs": [],
      "source": [
        "print(\"\\nCorrelation with 'Machine_failure':\\n\", correlation['Machine_failure'].sort_values(ascending=False))"
      ]
    },
    {
      "cell_type": "code",
      "execution_count": null,
      "metadata": {
        "id": "W6Wby-duczHC"
      },
      "outputs": [],
      "source": [
        "print(\"\\nCorrelation with 'Torque_Nm':\\n\", correlation['Torque_Nm'].sort_values(ascending=False))"
      ]
    },
    {
      "cell_type": "code",
      "execution_count": null,
      "metadata": {
        "id": "Qsm0j1QOc36N"
      },
      "outputs": [],
      "source": [
        "plt.figure(figsize=(16, 12))\n",
        "plt.title('Correlation Heatmap')\n",
        "sns.heatmap(correlation, square=True, annot=True, fmt='.2f', linecolor='white')\n",
        "plt.show()"
      ]
    },
    {
      "cell_type": "code",
      "execution_count": null,
      "metadata": {
        "colab": {
          "background_save": true
        },
        "id": "-5hjPzOlc9_y"
      },
      "outputs": [],
      "source": [
        "num_vars = ['Air_temperature_K', 'Process_temperature_K', 'Rotational_speed_rpm', 'Torque_Nm', 'Tool_wear_min', 'Machine_failure']\n",
        "sns.pairplot(df[num_vars], kind='scatter', diag_kind='hist')\n",
        "plt.show()"
      ]
    },
    {
      "cell_type": "markdown",
      "metadata": {
        "id": "FARaLwSK98F_"
      },
      "source": [
        "# 4. Outlierlarni tahlil qilish va tozalash\n"
      ]
    },
    {
      "cell_type": "markdown",
      "metadata": {
        "id": "gruCD0KxIrnG"
      },
      "source": [
        "##4.1 Outlierlarni aniqlash (vizual usulda)\n",
        "Boxplot grafiklar outlier bor ustunlarni aniqlashga yordam beradi"
      ]
    },
    {
      "cell_type": "code",
      "execution_count": null,
      "metadata": {
        "colab": {
          "background_save": true
        },
        "id": "AxSgienrn1-q"
      },
      "outputs": [],
      "source": [
        "plt.figure(figsize=(8, 6))\n",
        "sns.boxplot(x='Machine_failure', y='Process_temperature_K', data=df)\n",
        "plt.title(\"Box Plot of Machine_failure vs Torque\")\n",
        "plt.show()"
      ]
    },
    {
      "cell_type": "code",
      "execution_count": null,
      "metadata": {
        "colab": {
          "background_save": true
        },
        "id": "i0AOrGWun03d",
        "outputId": "ac27881b-4ee2-47f1-b0e4-4361627ab95c"
      },
      "outputs": [
        {
          "data": {
            "image/png": "[encoded data removed]",
            "text/plain": [
              "<Figure size 800x600 with 1 Axes>"
            ]
          },
          "metadata": {},
          "output_type": "display_data"
        }
      ],
      "source": [
        "plt.figure(figsize=(8, 6))\n",
        "sns.boxplot(x='Machine_failure',y='Rotational_speed_rpm', data=df)\n",
        "plt.title(\"Box Plot of Machine_failure vs Torque\")\n",
        "plt.show()"
      ]
    },
    {
      "cell_type": "code",
      "execution_count": null,
      "metadata": {
        "colab": {
          "background_save": true
        },
        "id": "2axXuIFqnzo5",
        "outputId": "4afef1cc-0d82-4e73-ee70-da3e64defc06"
      },
      "outputs": [
        {
          "data": {
            "image/png": "[encoded data removed]",
            "text/plain": [
              "<Figure size 800x600 with 1 Axes>"
            ]
          },
          "metadata": {},
          "output_type": "display_data"
        }
      ],
      "source": [
        "plt.figure(figsize=(8, 6))\n",
        "sns.boxplot(x='Machine_failure', y='Tool_wear_min', data=df)\n",
        "plt.title(\"Box Plot of Machine_failure vs Torque\")\n",
        "plt.show()"
      ]
    },
    {
      "cell_type": "code",
      "execution_count": null,
      "metadata": {
        "colab": {
          "background_save": true
        },
        "id": "l8YV7mfddL_V",
        "outputId": "f921df1e-cd3f-40b7-cce3-4701748203ce"
      },
      "outputs": [
        {
          "data": {
            "image/png": "[encoded data removed]",
            "text/plain": [
              "<Figure size 800x600 with 1 Axes>"
            ]
          },
          "metadata": {},
          "output_type": "display_data"
        }
      ],
      "source": [
        "plt.figure(figsize=(8, 6))\n",
        "sns.boxplot(x='Machine_failure', y='Torque_Nm', data=df)\n",
        "plt.title(\"Box Plot of Machine_failure vs Torque\")\n",
        "plt.show()"
      ]
    },
    {
      "cell_type": "markdown",
      "metadata": {
        "id": "QVRbH1BaI2x6"
      },
      "source": [
        "## 4.2 Outlierlarni tozalash\n",
        "\n",
        " IQR usuli"
      ]
    },
    {
      "cell_type": "code",
      "execution_count": null,
      "metadata": {
        "colab": {
          "background_save": true
        },
        "id": "Eu94uGljW-9s"
      },
      "outputs": [],
      "source": [
        "def remove_outliers_iqr(df, column):\n",
        "  Q1 = df[column].quantile(0.25)\n",
        "  Q3 = df[column].quantile(0.75)\n",
        "  IQR = Q3 - Q1\n",
        "  lower_bound = Q1 - 1.5 * IQR\n",
        "  upper_bound = Q3 + 1.5 * IQR\n",
        "  return df[(df[column] >= lower_bound) & (df[column] <= upper_bound)]"
      ]
    },
    {
      "cell_type": "markdown",
      "metadata": {
        "id": "ODgaKUI1-E4W"
      },
      "source": [
        "## 4.3 Outlierlarni tozalash (tanlangan ustunlar uchun va natijani df_cleaned ga saqlash)\n"
      ]
    },
    {
      "cell_type": "code",
      "execution_count": null,
      "metadata": {
        "colab": {
          "background_save": true
        },
        "id": "v02_q3KyJYai"
      },
      "outputs": [],
      "source": [
        "df_cleaned = df.copy()\n",
        "outlier_columns = ['Torque_Nm', 'Rotational_speed_rpm', 'Air_temperature_K', 'Process_temperature_K']\n",
        "for col in outlier_columns:\n",
        "    df_cleaned = remove_outliers_iqr(df_cleaned, col)"
      ]
    },
    {
      "cell_type": "markdown",
      "metadata": {
        "id": "RsROcOoKJmKZ"
      },
      "source": [
        "orginal data"
      ]
    },
    {
      "cell_type": "code",
      "execution_count": null,
      "metadata": {
        "colab": {
          "background_save": true
        },
        "id": "ny9BZKrzPuQJ"
      },
      "outputs": [],
      "source": [
        "slope, intercept, r_value, p_value, std_err = linregress(df['Air_temperature_K'], df['Process_temperature_K'])\n",
        "sns.scatterplot(x='Air_temperature_K', y='Process_temperature_K', data=df)\n",
        "plt.plot(df['Air_temperature_K'], intercept + slope * df['Air_temperature_K'], 'r', label=f'y = {slope:.2f}x + {intercept:.2f}')\n",
        "plt.legend()\n",
        "plt.show()"
      ]
    },
    {
      "cell_type": "markdown",
      "metadata": {
        "id": "ZgJRLyclJrw_"
      },
      "source": [
        "Cut oulier data"
      ]
    },
    {
      "cell_type": "code",
      "execution_count": null,
      "metadata": {
        "colab": {
          "background_save": true
        },
        "id": "UnLjZzZkNh6Q"
      },
      "outputs": [],
      "source": [
        "slope, intercept, r_value, p_value, std_err = linregress(df_cleaned['Air_temperature_K'], df_cleaned['Process_temperature_K'])\n",
        "sns.scatterplot(x='Air_temperature_K', y='Process_temperature_K', data=df_cleaned)\n",
        "plt.plot(df_cleaned['Air_temperature_K'], intercept + slope * df_cleaned['Air_temperature_K'], 'r', label=f'y = {slope:.2f}x + {intercept:.2f}')\n",
        "plt.legend()\n",
        "plt.show()"
      ]
    },
    {
      "cell_type": "code",
      "execution_count": null,
      "metadata": {
        "colab": {
          "background_save": true
        },
        "id": "Arxc8nLMrLfZ"
      },
      "outputs": [],
      "source": [
        "sns.scatterplot(x='Torque_Nm', y='Rotational_speed_rpm', data=df)\n",
        "plt.show()"
      ]
    },
    {
      "cell_type": "markdown",
      "metadata": {
        "id": "b1YipzlQsdW_"
      },
      "source": [
        "Outlierlar tozalangandan keyin"
      ]
    },
    {
      "cell_type": "code",
      "execution_count": null,
      "metadata": {
        "colab": {
          "background_save": true
        },
        "id": "JC0aVQ4gq9hB"
      },
      "outputs": [],
      "source": [
        "sns.scatterplot(x='Torque_Nm', y='Rotational_speed_rpm', data=df_cleaned)\n",
        "plt.show()"
      ]
    },
    {
      "cell_type": "markdown",
      "metadata": {
        "id": "IhhHKABorQrc"
      },
      "source": [
        "Regressiya model uchun"
      ]
    },
    {
      "cell_type": "code",
      "execution_count": null,
      "metadata": {
        "colab": {
          "background_save": true
        },
        "id": "-3-T5Pl7txCb"
      },
      "outputs": [],
      "source": [
        "slope, intercept, r_value, p_value, std_err = linregress(df_cleaned['Torque_Nm'], df_cleaned['Rotational_speed_rpm'])\n",
        "sns.scatterplot(x='Torque_Nm', y='Rotational_speed_rpm', data=df_cleaned)\n",
        "plt.plot(df_cleaned['Torque_Nm'], intercept + slope * df_cleaned['Torque_Nm'], 'r', label=f'y = {slope:.2f}x + {intercept:.2f}')\n",
        "plt.legend()\n",
        "plt.show()"
      ]
    },
    {
      "cell_type": "code",
      "execution_count": null,
      "metadata": {
        "colab": {
          "background_save": true
        },
        "id": "rauu_XjA7-_R"
      },
      "outputs": [],
      "source": [
        "plt.figure(figsize=(15,10))\n",
        "sns.heatmap(df_cleaned.corr(),annot=True)"
      ]
    },
    {
      "cell_type": "code",
      "execution_count": null,
      "metadata": {
        "colab": {
          "background_save": true
        },
        "id": "F2VC0MbVlAkI"
      },
      "outputs": [],
      "source": [
        "sns.barplot(x='Machine_failure', y='Torque_Nm', data=df_cleaned, hue='Type')\n",
        "plt.show()"
      ]
    },
    {
      "cell_type": "markdown",
      "metadata": {
        "id": "GYH5lsiF-vX8"
      },
      "source": [
        "## 4.4 Binary ustunlar (HDF, PWF, OSF, TWF) uchun outlierlarni aniqlash shart emas (ular faqat 0 va 1 qiymatlarni oladi)\n"
      ]
    },
    {
      "cell_type": "code",
      "execution_count": null,
      "metadata": {
        "colab": {
          "background_save": true
        },
        "id": "OwVUYkHJ8EK5"
      },
      "outputs": [],
      "source": [
        "df.TWF.value_counts()"
      ]
    },
    {
      "cell_type": "code",
      "execution_count": null,
      "metadata": {
        "colab": {
          "background_save": true
        },
        "id": "Qcywed4l8XuM"
      },
      "outputs": [],
      "source": [
        "df.HDF.value_counts()"
      ]
    },
    {
      "cell_type": "code",
      "execution_count": null,
      "metadata": {
        "colab": {
          "background_save": true
        },
        "id": "Sz2zbB098Y73"
      },
      "outputs": [],
      "source": [
        "df.PWF.value_counts()"
      ]
    },
    {
      "cell_type": "code",
      "execution_count": null,
      "metadata": {
        "colab": {
          "background_save": true
        },
        "id": "lqtjLSvr8aML"
      },
      "outputs": [],
      "source": [
        "df.OSF.value_counts()"
      ]
    },
    {
      "cell_type": "code",
      "execution_count": null,
      "metadata": {
        "colab": {
          "background_save": true
        },
        "id": "6ryJFeAG8bKL"
      },
      "outputs": [],
      "source": [
        "df.RNF.value_counts()"
      ]
    },
    {
      "cell_type": "code",
      "execution_count": null,
      "metadata": {
        "colab": {
          "background_save": true
        },
        "id": "W1yEAHfa2l4B"
      },
      "outputs": [],
      "source": [
        "df_cleaned.head()"
      ]
    },
    {
      "cell_type": "markdown",
      "metadata": {
        "id": "7qyW5_xiKNRR"
      },
      "source": [
        "# 5. Ma'lumotlarni muvozanatlash (Imbalance Data Handling)"
      ]
    },
    {
      "cell_type": "markdown",
      "metadata": {
        "id": "od1GcYZAODBv"
      },
      "source": [
        "Muvozanatni tekshirish"
      ]
    },
    {
      "cell_type": "code",
      "execution_count": null,
      "metadata": {
        "colab": {
          "background_save": true
        },
        "id": "FPTMxV_uN_Iv"
      },
      "outputs": [],
      "source": [
        "print(\"\\n'Machine failure' ustuni uchun muvozanatni tekshirish:\\n\", df_cleaned['Machine_failure'].value_counts())"
      ]
    },
    {
      "cell_type": "markdown",
      "metadata": {
        "id": "P7uP9NNzLj-Z"
      },
      "source": [
        "# 6. Xususiyatlarni tanlash (Feature Selection) (ixtiyoriy)\n",
        "\n",
        "Bu qadamda biz muhim bo'lmagan xususiyatlarni olib tashlashimiz mumkin.\n",
        "Misol uchun, o'zaro ma'lumot (mutual information) yoki korrelyatsiya asosida tanlash\n",
        "\n",
        "Keraksiz ustunlarni olib tashlash (masalan, 'Type', 'RNF' - agar ular kerak emas deb hisoblasangiz)\n",
        "RNF ni olib tashlash sababi uning juda kam qiymatga ega ekanligi va modelga ta'siri kamligi.\n",
        "Type ustunini olib tashlash sababi esa, u kategoriyali o'zgaruvchi bo'lib, daraxtga asoslangan modellarda\n",
        "(masalan, Random Forest, Gradient Boosting) unchalik muhim emas."
      ]
    },
    {
      "cell_type": "markdown",
      "metadata": {
        "id": "NcbvbS6UNSUG"
      },
      "source": [
        "Muvozanatlash usullarini qo'llash (klassifikatsiya uchun)\n"
      ]
    },
    {
      "cell_type": "code",
      "execution_count": null,
      "metadata": {
        "colab": {
          "background_save": true
        },
        "id": "DC_A__yuKKyU"
      },
      "outputs": [],
      "source": [
        "#SIMPLE\n",
        "X_simple = df_cleaned.drop(['Machine_failure','Type', 'Air_temperature_K', 'Process_temperature_K',\n",
        "       'Rotational_speed_rpm','RNF'], axis=1)\n",
        "y_simple = df_cleaned['Machine_failure']\n",
        "\n",
        "X_train, X_test, y_train, y_test = train_test_split(X_simple, y_simple, test_size=0.15, random_state=42)\n",
        "# SMOTE\n",
        "smote = SMOTE(random_state=42)\n",
        "X_smote, y_smote = smote.fit_resample(X_train, y_train)\n",
        "\n",
        "# ADASYN\n",
        "adasyn = ADASYN(random_state=42)\n",
        "X_adasyn, y_adasyn = adasyn.fit_resample(X_train, y_train)\n",
        "\n",
        "# SMOTEENN\n",
        "smoteenn = SMOTEENN(random_state=42)\n",
        "X_smoteenn, y_smoteenn = smoteenn.fit_resample(X_train, y_train)\n",
        "\n",
        "# Tomek Links\n",
        "tl = TomekLinks(sampling_strategy='majority')  # random_state olib tashlandi\n",
        "X_tl, y_tl = tl.fit_resample(X_train, y_train)\n",
        "\n",
        "print(\"\\n'Machine_failure' ustuni uchun muvozanatni tekshirish (Tomek Links):\\n\", pd.Series(y_tl).value_counts())"
      ]
    },
    {
      "cell_type": "markdown",
      "metadata": {
        "id": "QNp4eJzD-8EN"
      },
      "source": [
        "# 7. Machine Learning modellarini qo'llash va baholash"
      ]
    },
    {
      "cell_type": "markdown",
      "metadata": {
        "id": "4fjlBu4U_OMn"
      },
      "source": [
        "##7.1 Klassifikatsiya\n"
      ]
    },
    {
      "cell_type": "code",
      "execution_count": null,
      "metadata": {
        "colab": {
          "background_save": true
        },
        "id": "jm86sNKD-Q3H"
      },
      "outputs": [],
      "source": [
        "X = df.drop(['Machine_failure','Type', 'Air_temperature_K', 'Process_temperature_K',\n",
        "       'Rotational_speed_rpm','RNF'], axis=1)\n",
        "y = df['Machine_failure']\n",
        "X_train,X_test,y_train,y_test=train_test_split(X,y,test_size=0.15,random_state=42)"
      ]
    },
    {
      "cell_type": "markdown",
      "metadata": {
        "id": "-XrtC7Fv_joq"
      },
      "source": [
        "7.1.1 Logistic Regression"
      ]
    },
    {
      "cell_type": "code",
      "execution_count": null,
      "metadata": {
        "colab": {
          "background_save": true
        },
        "id": "3sh_xKjd8naV"
      },
      "outputs": [],
      "source": [
        "%%time\n",
        "lr = LogisticRegression(random_state=42)\n",
        "lr.fit(X_train, y_train)\n",
        "y_pred_lr = lr.predict(X_test)\n",
        "print(\"\\nLogistic Regression:\")\n",
        "print(classification_report(y_test, y_pred_lr))\n",
        "print(\"Accuracy:\", accuracy_score(y_test, y_pred_lr))"
      ]
    },
    {
      "cell_type": "markdown",
      "metadata": {
        "id": "pGBwRT4AAOmB"
      },
      "source": [
        "7.1.2 Random Forest"
      ]
    },
    {
      "cell_type": "code",
      "execution_count": null,
      "metadata": {
        "colab": {
          "background_save": true
        },
        "id": "UlRdJ2tD-V_q"
      },
      "outputs": [],
      "source": [
        "%%time\n",
        "rfc = RandomForestClassifier(random_state=42)\n",
        "rfc.fit(X_train, y_train)\n",
        "y_pred_rfc = rfc.predict(X_test)\n",
        "print(\"\\nRandom Forest:\")\n",
        "print(classification_report(y_test, y_pred_rfc))\n",
        "print(\"Accuracy:\", accuracy_score(y_test, y_pred_rfc))"
      ]
    },
    {
      "cell_type": "markdown",
      "metadata": {
        "id": "zc5Fg7urAjN3"
      },
      "source": [
        "7.1.3 Decision Tree"
      ]
    },
    {
      "cell_type": "code",
      "execution_count": null,
      "metadata": {
        "colab": {
          "background_save": true
        },
        "id": "Dn_EXJfwhjnM"
      },
      "outputs": [],
      "source": [
        "%%time\n",
        "dtc = DecisionTreeClassifier(random_state=42)\n",
        "dtc.fit(X_train, y_train)\n",
        "y_pred_dtc = dtc.predict(X_test)\n",
        "print(\"\\nDecision Tree:\")\n",
        "print(classification_report(y_test, y_pred_dtc))\n",
        "print(\"Accuracy:\", accuracy_score(y_test, y_pred_dtc))"
      ]
    },
    {
      "cell_type": "markdown",
      "metadata": {
        "id": "9NKNnDMUAoAT"
      },
      "source": [
        "7.1.4 K-Nearest Neighbors (KNN)"
      ]
    },
    {
      "cell_type": "code",
      "execution_count": null,
      "metadata": {
        "colab": {
          "background_save": true
        },
        "id": "wJuqAPauh4Yu"
      },
      "outputs": [],
      "source": [
        "%%time\n",
        "knn = KNeighborsClassifier()\n",
        "knn.fit(X_train, y_train)\n",
        "y_pred_knn = knn.predict(X_test)\n",
        "print(\"\\nK-Nearest Neighbors (KNN):\")\n",
        "print(classification_report(y_test, y_pred_knn))\n",
        "print(\"Accuracy:\", accuracy_score(y_test, y_pred_knn))"
      ]
    },
    {
      "cell_type": "markdown",
      "metadata": {
        "id": "xbufOjXRAsFT"
      },
      "source": [
        "7.1.5 Gaussian Naive Bayes"
      ]
    },
    {
      "cell_type": "code",
      "execution_count": null,
      "metadata": {
        "colab": {
          "background_save": true
        },
        "id": "grAH6VPLkFBy"
      },
      "outputs": [],
      "source": [
        "%%time\n",
        "gnb = GaussianNB()\n",
        "gnb.fit(X_train, y_train)\n",
        "y_pred_gnb = gnb.predict(X_test)\n",
        "print(\"\\nGaussian Naive Bayes:\")\n",
        "print(classification_report(y_test, y_pred_gnb))\n",
        "print(\"Accuracy:\", accuracy_score(y_test, y_pred_gnb))"
      ]
    },
    {
      "cell_type": "markdown",
      "metadata": {
        "id": "tI1zzy2RAxWR"
      },
      "source": [
        "7.1.6 Gradient Boosting"
      ]
    },
    {
      "cell_type": "code",
      "execution_count": null,
      "metadata": {
        "id": "AXNqa1mjkVET"
      },
      "outputs": [],
      "source": [
        "%%time\n",
        "gbc = GradientBoostingClassifier(random_state=42)\n",
        "gbc.fit(X_train, y_train)\n",
        "y_pred_gbc = gbc.predict(X_test)\n",
        "print(\"\\nGradient Boosting:\")\n",
        "print(classification_report(y_test, y_pred_gbc))\n",
        "print(\"Accuracy:\", accuracy_score(y_test, y_pred_gbc))"
      ]
    },
    {
      "cell_type": "markdown",
      "metadata": {
        "id": "hikmwcUbA01d"
      },
      "source": [
        "7.1.7 AdaBoost"
      ]
    },
    {
      "cell_type": "code",
      "execution_count": null,
      "metadata": {
        "id": "CMOROPXzkjr8"
      },
      "outputs": [],
      "source": [
        "%%time\n",
        "abc = AdaBoostClassifier(random_state=42)\n",
        "abc.fit(X_train, y_train)\n",
        "y_pred_abc = abc.predict(X_test)\n",
        "print(\"\\nAdaBoost:\")\n",
        "print(classification_report(y_test, y_pred_abc))\n",
        "print(\"Accuracy:\", accuracy_score(y_test, y_pred_abc))"
      ]
    },
    {
      "cell_type": "markdown",
      "metadata": {
        "id": "gX7M6AG6A-pP"
      },
      "source": [
        "7.1.8 Extra Trees"
      ]
    },
    {
      "cell_type": "code",
      "execution_count": null,
      "metadata": {
        "id": "7QZjyDGTkqgq"
      },
      "outputs": [],
      "source": [
        "%%time\n",
        "etc = ExtraTreesClassifier(random_state=42)\n",
        "etc.fit(X_train, y_train)\n",
        "y_pred_etc = etc.predict(X_test)\n",
        "print(\"\\nExtra Trees:\")\n",
        "print(classification_report(y_test, y_pred_etc))\n",
        "print(\"Accuracy:\", accuracy_score(y_test, y_pred_etc))"
      ]
    },
    {
      "cell_type": "markdown",
      "metadata": {
        "id": "ctu__ZG_QkZE"
      },
      "source": [
        "7.1.9 XGBoost"
      ]
    },
    {
      "cell_type": "code",
      "execution_count": null,
      "metadata": {
        "id": "gExdclD8Qxrb"
      },
      "outputs": [],
      "source": [
        "!pip install xgboost"
      ]
    },
    {
      "cell_type": "code",
      "execution_count": null,
      "metadata": {
        "id": "hXmzIJwtQgLg"
      },
      "outputs": [],
      "source": [
        "xgb_model = xgb.XGBClassifier(random_state=42)\n",
        "xgb_model.fit(X_train, y_train)\n",
        "y_pred_xgb = xgb_model.predict(X_test)\n",
        "print(\"\\nXGBoost:\")\n",
        "print(classification_report(y_test, y_pred_xgb))\n",
        "print(\"Accuracy:\", accuracy_score(y_test, y_pred_xgb))"
      ]
    },
    {
      "cell_type": "markdown",
      "metadata": {
        "id": "HZdblAFxRkfd"
      },
      "source": [
        "7.1.10 LightGBM"
      ]
    },
    {
      "cell_type": "code",
      "execution_count": null,
      "metadata": {
        "id": "NyZumOkVRp80"
      },
      "outputs": [],
      "source": [
        "!pip install lightgbm"
      ]
    },
    {
      "cell_type": "code",
      "execution_count": null,
      "metadata": {
        "id": "XRyO6IrSRiEs"
      },
      "outputs": [],
      "source": [
        "lgbm_model = lgb.LGBMClassifier(random_state=42)\n",
        "lgbm_model.fit(X_train, y_train)\n",
        "y_pred_lgbm = lgbm_model.predict(X_test)\n",
        "print(\"\\nLightGBM:\")\n",
        "print(classification_report(y_test, y_pred_lgbm))\n",
        "print(\"Accuracy:\", accuracy_score(y_test, y_pred_lgbm))"
      ]
    },
    {
      "cell_type": "markdown",
      "metadata": {
        "id": "wCXVZpngQ_1B"
      },
      "source": [
        "##7.2 Regressiya\n",
        "\n",
        "Ma'lumotlarni train/test to'plamlariga ajratish"
      ]
    },
    {
      "cell_type": "code",
      "execution_count": null,
      "metadata": {
        "id": "gAZNr3mfkPyl"
      },
      "outputs": [],
      "source": [
        "df_cleaned.columns"
      ]
    },
    {
      "cell_type": "code",
      "execution_count": null,
      "metadata": {
        "id": "54qIbbkKPJud"
      },
      "outputs": [],
      "source": [
        "X = df_cleaned.drop(['Type', 'Air_temperature_K', 'Process_temperature_K',\n",
        "      'Torque_Nm', 'Tool_wear_min',\n",
        "       'TWF', 'PWF', 'RNF'], axis=1)\n",
        "y = df_cleaned['Torque_Nm']\n",
        "X_train, X_test, y_train, y_test = train_test_split(X, y, test_size=0.15, random_state=42)"
      ]
    },
    {
      "cell_type": "markdown",
      "metadata": {
        "id": "jcST4UyCS2Ia"
      },
      "source": [
        "7.2.1 Linear Regression"
      ]
    },
    {
      "cell_type": "code",
      "execution_count": null,
      "metadata": {
        "id": "r5FlAI1wRLPV"
      },
      "outputs": [],
      "source": [
        "%%time\n",
        "lr_reg = LinearRegression()\n",
        "lr_reg.fit(X_train, y_train)\n",
        "y_pred_lr_reg = lr_reg.predict(X_test)\n",
        "print(\"\\nLinear Regression:\")\n",
        "print(\"R-squared:\", r2_score(y_test, y_pred_lr_reg))\n",
        "print(\"Mean Absolute Error:\", mean_absolute_error(y_test, y_pred_lr_reg))\n",
        "print(\"Mean Squared Error:\", mean_squared_error(y_test, y_pred_lr_reg))"
      ]
    },
    {
      "cell_type": "code",
      "execution_count": null,
      "metadata": {
        "id": "9aefbXzxpsYy"
      },
      "outputs": [],
      "source": [
        "from sklearn.linear_model import Ridge, Lasso, ElasticNet,HuberRegressor,RANSACRegressor,TheilSenRegressor,SGDRegressor"
      ]
    },
    {
      "cell_type": "code",
      "execution_count": null,
      "metadata": {
        "id": "PgVT1kTPp4QD"
      },
      "outputs": [],
      "source": [
        "ridge=Ridge()\n",
        "ridge.fit(X_train,y_train)\n",
        "y_pred_ridge=ridge.predict(X_test)\n",
        "print(\"\\nRidge:\")\n",
        "print(\"R-squared:\", r2_score(y_test, y_pred_ridge))\n",
        "print(\"Mean Absolute Error:\", mean_absolute_error(y_test, y_pred_ridge))\n",
        "print(\"Mean Squared Error:\", mean_squared_error(y_test, y_pred_ridge))"
      ]
    },
    {
      "cell_type": "markdown",
      "metadata": {
        "id": "PM45Vx7JsPkI"
      },
      "source": [
        "PolynomialFeatures"
      ]
    },
    {
      "cell_type": "code",
      "execution_count": null,
      "metadata": {
        "id": "gmmBru8DsQ7a"
      },
      "outputs": [],
      "source": [
        "from sklearn.preprocessing import PolynomialFeatures\n",
        "poly=PolynomialFeatures()\n",
        "poly.fit_transform(X)\n",
        "y_pred_poly=lr_reg.predict(X_test)\n",
        "print(\"\\nPolynomialFeatures:\")\n",
        "print(\"R-squared:\", r2_score(y_test, y_pred_poly))\n",
        "print(\"Mean Absolute Error:\", mean_absolute_error(y_test, y_pred_poly))\n",
        "print(\"Mean Squared Error:\", mean_squared_error(y_test, y_pred_poly))"
      ]
    },
    {
      "cell_type": "markdown",
      "metadata": {
        "id": "TNObCNvHTAV7"
      },
      "source": [
        "7.2.2 Random Forest Regressor"
      ]
    },
    {
      "cell_type": "code",
      "execution_count": null,
      "metadata": {
        "id": "5QT34i0tROi6"
      },
      "outputs": [],
      "source": [
        "%%time\n",
        "rfr = RandomForestRegressor(random_state=42)\n",
        "rfr.fit(X_train, y_train)\n",
        "y_pred_rfr = rfr.predict(X_test)\n",
        "print(\"\\nRandom Forest Regressor:\")\n",
        "print(\"R-squared:\", r2_score(y_test, y_pred_rfr))\n",
        "print(\"Mean Absolute Error:\", mean_absolute_error(y_test, y_pred_rfr))\n",
        "print(\"Mean Squared Error:\", mean_squared_error(y_test, y_pred_rfr))"
      ]
    },
    {
      "cell_type": "markdown",
      "metadata": {
        "id": "nqEu173ETS89"
      },
      "source": [
        "7.2.3 Decision Tree Regressor"
      ]
    },
    {
      "cell_type": "code",
      "execution_count": null,
      "metadata": {
        "id": "D1OuxExxRxo9"
      },
      "outputs": [],
      "source": [
        "%%time\n",
        "dtr = DecisionTreeRegressor(random_state=42)\n",
        "dtr.fit(X_train, y_train)\n",
        "y_pred_dtr = dtr.predict(X_test)\n",
        "print(\"\\nDecision Tree Regressor:\")\n",
        "print(\"R-squared:\", r2_score(y_test, y_pred_dtr))\n",
        "print(\"Mean Absolute Error:\", mean_absolute_error(y_test, y_pred_dtr))\n",
        "print(\"Mean Squared Error:\", mean_squared_error(y_test, y_pred_dtr))"
      ]
    },
    {
      "cell_type": "markdown",
      "metadata": {
        "id": "CuQ4TAaXTa8i"
      },
      "source": [
        "7.2.4 K-Nearest Neighbors Regressor (KNR)"
      ]
    },
    {
      "cell_type": "code",
      "execution_count": null,
      "metadata": {
        "id": "yBjuQRx3R693"
      },
      "outputs": [],
      "source": [
        "%%time\n",
        "knr = KNeighborsRegressor()\n",
        "knr.fit(X_train, y_train)\n",
        "y_pred_knr = knr.predict(X_test)\n",
        "print(\"\\nK-Nearest Neighbors Regressor (KNR):\")\n",
        "print(\"R-squared:\", r2_score(y_test, y_pred_knr))\n",
        "print(\"Mean Absolute Error:\", mean_absolute_error(y_test, y_pred_knr))\n",
        "print(\"Mean Squared Error:\", mean_squared_error(y_test, y_pred_knr))"
      ]
    },
    {
      "cell_type": "markdown",
      "metadata": {
        "id": "q88PFrj9TlBb"
      },
      "source": [
        "7.2.5 Gradient Boosting Regressor"
      ]
    },
    {
      "cell_type": "code",
      "execution_count": null,
      "metadata": {
        "id": "5Jn2DR_1R_TF"
      },
      "outputs": [],
      "source": [
        "%%time\n",
        "gbr = GradientBoostingRegressor(random_state=42)\n",
        "gbr.fit(X_train, y_train)\n",
        "y_pred_gbr = gbr.predict(X_test)\n",
        "print(\"\\nGradient Boosting Regressor:\")\n",
        "print(\"R-squared:\", r2_score(y_test, y_pred_gbr))\n",
        "print(\"Mean Absolute Error:\", mean_absolute_error(y_test, y_pred_gbr))\n",
        "print(\"Mean Squared Error:\", mean_squared_error(y_test, y_pred_gbr))"
      ]
    },
    {
      "cell_type": "markdown",
      "metadata": {
        "id": "rljz0nYZTvA6"
      },
      "source": [
        "7.2.6 AdaBoost Regressor"
      ]
    },
    {
      "cell_type": "code",
      "execution_count": null,
      "metadata": {
        "id": "HuHizL7ISC3f"
      },
      "outputs": [],
      "source": [
        "%%time\n",
        "abr = AdaBoostRegressor(random_state=42)\n",
        "abr.fit(X_train, y_train)\n",
        "y_pred_abr = abr.predict(X_test)\n",
        "print(\"\\nAdaBoost Regressor:\")\n",
        "print(\"R-squared:\", r2_score(y_test, y_pred_abr))\n",
        "print(\"Mean Absolute Error:\", mean_absolute_error(y_test, y_pred_abr))\n",
        "print(\"Mean Squared Error:\", mean_squared_error(y_test, y_pred_abr))"
      ]
    },
    {
      "cell_type": "markdown",
      "metadata": {
        "id": "GtqtNWnOT6ay"
      },
      "source": [
        "7.2.7 Extra Trees Regressor"
      ]
    },
    {
      "cell_type": "code",
      "execution_count": null,
      "metadata": {
        "id": "-LTo2hs7SERr"
      },
      "outputs": [],
      "source": [
        "%%time\n",
        "etr = ExtraTreesRegressor(random_state=42)\n",
        "etr.fit(X_train, y_train)\n",
        "y_pred_etr = etr.predict(X_test)\n",
        "print(\"\\nExtra Trees Regressor:\")\n",
        "print(\"R-squared:\", r2_score(y_test, y_pred_etr))\n",
        "print(\"Mean Absolute Error:\", mean_absolute_error(y_test, y_pred_etr))\n",
        "print(\"Mean Squared Error:\", mean_squared_error(y_test, y_pred_etr))"
      ]
    },
    {
      "cell_type": "markdown",
      "metadata": {
        "id": "S8th8LUBUKWx"
      },
      "source": [
        "7.2.8 SVR"
      ]
    },
    {
      "cell_type": "code",
      "execution_count": null,
      "metadata": {
        "id": "MkwYXKhUSKSS"
      },
      "outputs": [],
      "source": [
        "%%time\n",
        "svr = SVR()\n",
        "svr.fit(X_train, y_train)\n",
        "y_pred_svr = svr.predict(X_test)\n",
        "print(\"\\nSVR:\")\n",
        "print(\"R-squared:\", r2_score(y_test, y_pred_svr))\n",
        "print(\"Mean Absolute Error:\", mean_absolute_error(y_test, y_pred_svr))\n",
        "print(\"Mean Squared Error:\", mean_squared_error(y_test, y_pred_svr))"
      ]
    },
    {
      "cell_type": "markdown",
      "metadata": {
        "id": "wD5niRCwUXtl"
      },
      "source": [
        "7.2.9 XGBoost Regressor"
      ]
    },
    {
      "cell_type": "code",
      "execution_count": null,
      "metadata": {
        "id": "RhFVxZeWSORh"
      },
      "outputs": [],
      "source": [
        "%%time\n",
        "# %%time\n",
        "xgb_reg = xgb.XGBRegressor(random_state=42)\n",
        "xgb_reg.fit(X_train, y_train)\n",
        "y_pred_xgb_reg = xgb_reg.predict(X_test)\n",
        "print(\"\\nXGBoost Regressor:\")\n",
        "print(\"R-squared:\", r2_score(y_test, y_pred_xgb_reg))\n",
        "print(\"Mean Absolute Error:\", mean_absolute_error(y_test, y_pred_xgb_reg))\n",
        "print(\"Mean Squared Error:\", mean_squared_error(y_test, y_pred_xgb_reg))"
      ]
    },
    {
      "cell_type": "markdown",
      "metadata": {
        "id": "SchtGPdWVUGV"
      },
      "source": [
        "7.2.10 LightGBM Regressor"
      ]
    },
    {
      "cell_type": "code",
      "execution_count": null,
      "metadata": {
        "id": "f-iTm5dXSXrO"
      },
      "outputs": [],
      "source": [
        "%%time\n",
        "lgbm_reg = lgb.LGBMRegressor(random_state=42)\n",
        "lgbm_reg.fit(X_train, y_train)\n",
        "y_pred_lgbm_reg = lgbm_reg.predict(X_test)\n",
        "print(\"\\nLightGBM Regressor:\")\n",
        "print(\"R-squared:\", r2_score(y_test, y_pred_lgbm_reg))\n",
        "print(\"Mean Absolute Error:\", mean_absolute_error(y_test, y_pred_lgbm_reg))\n",
        "print(\"Mean Squared Error:\", mean_squared_error(y_test, y_pred_lgbm_reg))"
      ]
    },
    {
      "cell_type": "markdown",
      "metadata": {
        "id": "Qy-Gay_wWFKb"
      },
      "source": [
        "# 8. Modellar ishlashini solishtirish va eng yaxshisini tanlash"
      ]
    },
    {
      "cell_type": "code",
      "execution_count": null,
      "metadata": {
        "id": "EXSln9W8VuM3"
      },
      "outputs": [],
      "source": [
        "classification_results = defaultdict(lambda: defaultdict(list))"
      ]
    },
    {
      "cell_type": "markdown",
      "metadata": {
        "id": "VXBQcvmfWZF9"
      },
      "source": [
        "Muvozanatlash usullari ro'yxati"
      ]
    },
    {
      "cell_type": "code",
      "execution_count": null,
      "metadata": {
        "id": "ydL55Z1-0LOF"
      },
      "outputs": [],
      "source": [
        "X_train,X_test,y_train,y_test=train_test_split(X_simple,y_simple,test_size=0.15,random_state=42)"
      ]
    },
    {
      "cell_type": "code",
      "execution_count": null,
      "metadata": {
        "id": "BXUpGjhhWVO9"
      },
      "outputs": [],
      "source": [
        "balance_methods = [\"SIMPLE\",\"SMOTE\", \"ADASYN\", \"SMOTEENN\", \"TomekLinks\"]\n",
        "X_trains = [X_train,X_smote, X_adasyn, X_smoteenn, X_tl]\n",
        "y_trains = [y_train,y_smote, y_adasyn, y_smoteenn, y_tl]"
      ]
    },
    {
      "cell_type": "markdown",
      "metadata": {
        "id": "u4fOPXOFWiUK"
      },
      "source": [
        "Klassifikatsiya modellari ro'yxati"
      ]
    },
    {
      "cell_type": "code",
      "execution_count": null,
      "metadata": {
        "id": "t3po5HnpWe_Q"
      },
      "outputs": [],
      "source": [
        "classification_models = {\n",
        "    'Logistic Regression': LogisticRegression(max_iter=1000,random_state=42),\n",
        "    'Random Forest': RandomForestClassifier(random_state=42),\n",
        "    'Decision Tree': DecisionTreeClassifier(random_state=42),\n",
        "    'KNN': KNeighborsClassifier(),\n",
        "    'Gaussian Naive Bayes': GaussianNB(),\n",
        "    'Gradient Boosting': GradientBoostingClassifier(random_state=42),\n",
        "    'AdaBoost': AdaBoostClassifier(random_state=42),\n",
        "    'Extra Trees': ExtraTreesClassifier(random_state=42),\n",
        "    'XGBoost': xgb.XGBClassifier(random_state=42),\n",
        "    'LightGBM': lgb.LGBMClassifier(random_state=42)\n",
        "}\n",
        "\n",
        "\n",
        "for method, X_train_method, y_train_method in zip(balance_methods, X_trains, y_trains):\n",
        "    for model_name, model in classification_models.items():\n",
        "      start_time = time.time()\n",
        "      model.fit(X_train_method, y_train_method)\n",
        "      fit_time = time.time() - start_time\n",
        "\n",
        "      start_time = time.time()\n",
        "      y_pred = model.predict(X_test)\n",
        "      predict_time = time.time() - start_time\n",
        "      clf_report = classification_report(y_test, y_pred, output_dict=True)\n",
        "      classification_results[method][model_name].append({\n",
        "          'accuracy': accuracy_score(y_test, y_pred),\n",
        "          'precision_0': clf_report['0']['precision'],\n",
        "          'recall_0': clf_report['0']['recall'],\n",
        "          'f1_score_0': clf_report['0']['f1-score'],\n",
        "          'precision_1': clf_report['1']['precision'],\n",
        "          'recall_1': clf_report['1']['recall'],\n",
        "          'f1_score_1': clf_report['1']['f1-score'],\n",
        "          'macro_avg_precision': clf_report['macro avg']['precision'],\n",
        "          'macro_avg_recall': clf_report['macro avg']['recall'],\n",
        "          'macro_avg_f1_score': clf_report['macro avg']['f1-score'],\n",
        "          'weighted_avg_precision': clf_report['weighted avg']['precision'],\n",
        "          'weighted_avg_recall': clf_report['weighted avg']['recall'],\n",
        "          'weighted_avg_f1_score': clf_report['weighted avg']['f1-score'],\n",
        "          'fit_time': fit_time,\n",
        "          'predict_time': predict_time\n",
        "      })\n",
        "\n",
        "\n",
        "results_df = pd.DataFrame.from_dict({(i, j): [classification_results[i][j][0][k] for k in classification_results[i][j][0]]\n",
        "                           for i in classification_results.keys()\n",
        "                           for j in classification_results[i].keys()},\n",
        "                          orient='index')\n",
        "\n",
        "results_df.columns = list(classification_results[next(iter(classification_results))][next(iter(classification_results[next(iter(classification_results))]))][0].keys())\n",
        "\n",
        "results_df = results_df.reset_index().rename(columns={'level_0': 'Balance Method', 'level_1': 'Model'})\n",
        "\n",
        "print(\"Classification Results:\\n\")\n",
        "print(results_df)\n",
        "\n",
        "regression_results = {}\n",
        "results_df.to_csv('classification_results.csv', index=False)"
      ]
    },
    {
      "cell_type": "markdown",
      "metadata": {
        "id": "v4-bIXfOX-8H"
      },
      "source": [
        "SMOTE bilan Gradient Boosting uchun parametrlarni optimallashtirish"
      ]
    },
    {
      "cell_type": "code",
      "execution_count": null,
      "metadata": {
        "id": "3K05_Km-2TVZ"
      },
      "outputs": [],
      "source": [
        "classifier_df=pd.read_csv('classification_results.csv')\n",
        "\n",
        "print(classifier_df.loc[classifier_df['f1_score_1'].idxmax()])"
      ]
    },
    {
      "cell_type": "code",
      "execution_count": null,
      "metadata": {
        "id": "dNtyzA9K3tE7"
      },
      "outputs": [],
      "source": [
        "df_sorted = classifier_df.sort_values(by='weighted_avg_f1_score', ascending=False)\n",
        "df_18=df_sorted[:18]"
      ]
    },
    {
      "cell_type": "code",
      "execution_count": null,
      "metadata": {
        "id": "F6-5lt6R8YNo"
      },
      "outputs": [],
      "source": [
        "df_sorted = df_18.sort_values(by='predict_time', ascending=True)\n",
        "df_sorted"
      ]
    },
    {
      "cell_type": "code",
      "execution_count": null,
      "metadata": {
        "id": "h3bF-fypgk8j"
      },
      "outputs": [],
      "source": [
        "gnb = GaussianNB()\n",
        "\n",
        "dtc = DecisionTreeClassifier(random_state=42)\n",
        "\n",
        "lr = LogisticRegression(max_iter=1000,random_state=42)\n",
        "\n",
        "ensemble_model = VotingClassifier(estimators=[('gnb', gnb),('dtc', dtc),('lr',lr)], voting='soft')\n",
        "\n",
        "gnb_scores = cross_val_score(gnb, X_tl, y_tl, cv=10)\n",
        "print(\"GaussianNB o'rtacha baho:\", gnb_scores.mean())\n",
        "\n",
        "dtc_scores = cross_val_score(dtc, X_tl, y_tl, cv=10)\n",
        "print(\"Decision Tree Classifier o'rtacha baho:\", dtc_scores.mean())\n",
        "\n",
        "lr_scores = cross_val_score(lr, X_tl, y_tl, cv=10)\n",
        "print(\"Logistic Regression o'rtacha baho:\", lr_scores.mean())\n",
        "\n",
        "ensemble_scores = cross_val_score(ensemble_model, X_tl, y_tl, cv=5)\n",
        "print(\"Ensemble model o'rtacha baho:\", ensemble_scores.mean())\n",
        "\n",
        "if ensemble_scores.mean() > max(gnb_scores.mean(), dtc_scores.mean(),lr_scores.mean()):\n",
        "  print(\"Eng yaxshi model: Ensemble model\")\n",
        "\n",
        "elif gnb_scores.mean() > dtc_scores.mean():\n",
        "  if gnb_scores.mean() > lr_scores.mean():\n",
        "    print(\"Eng yaxshi model: GaussianNB\")\n",
        "elif dtc_scores.mean() > lr_scores.mean():\n",
        "  print(\"Eng yaxshi model: Decision Tree Classifier\")\n",
        "else:\n",
        "  print(\"Eng yaxshi model: Logistic Regression\")"
      ]
    },
    {
      "cell_type": "code",
      "execution_count": null,
      "metadata": {
        "id": "1kSr3xIfhwoH"
      },
      "outputs": [],
      "source": [
        "results = pd.DataFrame({\n",
        "     'Logistic Regression': lr_scores,\n",
        "     'Decision Tree': dtc_scores,\n",
        "     \"GaussianNB\": gnb_scores})\n",
        "\n",
        "plt.figure(figsize=(8,6))\n",
        "sns.boxplot(data=results)\n",
        "plt.title('ModelComparison (Cross-Validation Scores)')\n",
        "plt.ylabel('weighted_avg_f1_score (macro)')\n",
        "plt.show()"
      ]
    },
    {
      "cell_type": "markdown",
      "metadata": {
        "id": "Wpdfy9ZAX3we"
      },
      "source": [
        " Tanlangan modelni optimallashtirish (Hyperparameter Tuning)\n",
        "\n",
        "Misol uchun, Gaussian Naive Bayes uchun (klassifikatsiya)\n",
        "Eng yaxshi modelni aniqlaganingizdan so'ng (masalan, TomekLinks + Gaussian Naive Bayes),"
      ]
    },
    {
      "cell_type": "code",
      "execution_count": null,
      "metadata": {
        "id": "XdSfbltQH4cR"
      },
      "outputs": [],
      "source": [
        "param_grid_nb = {\n",
        "    'var_smoothing': np.logspace(0, -9, num=100)\n",
        "}\n",
        "\n",
        "nb_model = GaussianNB()\n",
        "grid_search_nb = GridSearchCV(estimator=nb_model, param_grid=param_grid_nb, cv=5, scoring='accuracy', verbose=1, n_jobs=-1)\n",
        "grid_search_nb.fit(X_tl, y_tl)\n",
        "\n",
        "print(\"Best parameters for GaussianNB:\", grid_search_nb.best_params_)\n",
        "best_nb = grid_search_nb.best_estimator_"
      ]
    },
    {
      "cell_type": "code",
      "execution_count": null,
      "metadata": {
        "id": "s-_DtxTXLgMb"
      },
      "outputs": [],
      "source": [
        "y_pred = best_nb.predict(X_test)\n",
        "print(\"\\nGaussian Naive Bayes TomekLinks - Test Set Results:\")\n",
        "print(classification_report(y_test, y_pred))\n",
        "print(\"Accuracy:\", accuracy_score(y_test, y_pred))\n",
        "\n",
        "report = classification_report(y_test, y_pred, output_dict=True)\n",
        "df_report = pd.DataFrame(report).transpose()\n",
        "\n",
        "df_report = df_report.drop(['accuracy', 'macro avg', 'weighted avg'])\n",
        "\n",
        "\n",
        "df_report[['precision', 'recall', 'f1-score']].plot(kind='bar', figsize=(10, 6))\n",
        "plt.title('Classification Report Metrics')\n",
        "plt.ylabel('Score')\n",
        "plt.xticks(rotation=0)\n",
        "plt.legend(loc='lower right')\n",
        "plt.show()"
      ]
    },
    {
      "cell_type": "markdown",
      "metadata": {
        "id": "65ET1f8FXVi7"
      },
      "source": [
        " Regressiya modellari ro'yxati"
      ]
    },
    {
      "cell_type": "code",
      "execution_count": null,
      "metadata": {
        "id": "lGMbvG36Wqxf"
      },
      "outputs": [],
      "source": [
        "regression_models = {\n",
        "    'Linear Regression': LinearRegression(),\n",
        "    'Random Forest Regressor': RandomForestRegressor(random_state=42),\n",
        "    'Decision Tree Regressor': DecisionTreeRegressor(random_state=42),\n",
        "    'K-Nearest Neighbors Regressor': KNeighborsRegressor(),\n",
        "    'Gradient Boosting Regressor': GradientBoostingRegressor(random_state=42),\n",
        "    'AdaBoost Regressor': AdaBoostRegressor(random_state=42),\n",
        "    'Extra Trees Regressor': ExtraTreesRegressor(random_state=42),\n",
        "    'SVR': SVR(),\n",
        "    'XGBoost Regressor': xgb.XGBRegressor(random_state=42),\n",
        "    'LightGBM Regressor': lgb.LGBMRegressor(random_state=42)\n",
        "}\n",
        "\n",
        "X = df.drop(['Type', 'Air_temperature_K', 'Process_temperature_K',\n",
        "      'Torque_Nm', 'Tool_wear_min',\n",
        "       'TWF', 'PWF', 'RNF'], axis=1)\n",
        "y = df['Torque_Nm']\n",
        "X_train, X_test, y_train, y_test = train_test_split(X, y, test_size=0.15, random_state=42)\n",
        "for model_name, model in regression_models.items():\n",
        "    model.fit(X_train, y_train)\n",
        "    y_pred = model.predict(X_test)\n",
        "\n",
        "    regression_results[model_name] = {\n",
        "        'R-squared': r2_score(y_test, y_pred),\n",
        "        'Mean Absolute Error': mean_absolute_error(y_test, y_pred),\n",
        "        'Mean Squared Error': mean_squared_error(y_test, y_pred)\n",
        "    }\n",
        "\n",
        "results_reg_df = pd.DataFrame(regression_results).T\n",
        "\n",
        "print(\"\\nRegression Results:\\n\")\n",
        "print(results_reg_df)\n",
        "results_reg_df.to_csv('regression_results.csv')"
      ]
    },
    {
      "cell_type": "markdown",
      "metadata": {
        "id": "DvGzNt0ELdNn"
      },
      "source": [
        "Regressor modelni tanlash"
      ]
    },
    {
      "cell_type": "code",
      "execution_count": null,
      "metadata": {
        "id": "xXXi4oVJtepR"
      },
      "outputs": [],
      "source": [
        "regressor=pd.read_csv('regression_results.csv')\n",
        "regressor.columns=['Model','R-squared','Mean_Absolute_Error','Mean_Squared_Error']\n",
        "reg_1=regressor.loc[regressor['R-squared'].idxmax()]\n",
        "reg_1"
      ]
    },
    {
      "cell_type": "markdown",
      "metadata": {
        "id": "Spbr_scnLi7W"
      },
      "source": [
        "Regressor modelni kuchaytirish"
      ]
    },
    {
      "cell_type": "code",
      "execution_count": null,
      "metadata": {
        "id": "jfd1I2NO1OdY"
      },
      "outputs": [],
      "source": [
        "pipeline_gbr = Pipeline([\n",
        "    ('scaler', StandardScaler()),\n",
        "    ('gbr', GradientBoostingRegressor(random_state=42))\n",
        "])\n",
        "\n",
        "\n",
        "param_grid_gbr = {\n",
        "    'gbr__learning_rate': [ 0.1,1],\n",
        "    'gbr__n_estimators': [50, 100],\n",
        "    'gbr__max_depth': [3, 4],\n",
        "    'gbr__min_samples_split': [5, 10],\n",
        "    'gbr__min_samples_leaf': [2, 4],\n",
        "    'gbr__subsample': [0.8, 0.9],\n",
        "    'gbr__max_features': ['sqrt', 'log2']\n",
        "}\n",
        "\n",
        "# GridSearchCV yordamida modelni o'rgatish va eng yaxshi parametrlarni topish\n",
        "grid_search_gbr = GridSearchCV(estimator=pipeline_gbr, param_grid=param_grid_gbr, cv=3, scoring='neg_mean_squared_error', verbose=2, n_jobs=-1) # Regressiya uchun scoring parametri\n",
        "grid_search_gbr.fit(X_train, y_train)\n",
        "\n",
        "print(\"\\nBest parameters for Gradient Boosting Regressor:\", grid_search_gbr.best_params_)\n",
        "\n",
        "# Eng yaxshi parametrlarga ega modelni olish\n",
        "best_gbr = grid_search_gbr.best_estimator_\n",
        "\n",
        "# Modelni test to'plamida baholash\n",
        "y_pred_gbr = best_gbr.predict(X_test)\n",
        "print(\"\\nGradient Boosting Regressor (Optimized) - Test Set Results:\")\n",
        "print(\"R-squared:\", r2_score(y_test, y_pred_gbr))\n",
        "print(\"Mean Absolute Error:\", mean_absolute_error(y_test, y_pred_gbr))\n",
        "print(\"Mean Squared Error:\", mean_squared_error(y_test, y_pred_gbr))"
      ]
    },
    {
      "cell_type": "code",
      "execution_count": null,
      "metadata": {
        "id": "-HYemEHjsfgU"
      },
      "outputs": [],
      "source": [
        "gbr = GradientBoostingRegressor(\n",
        "        subsample=0.8,n_estimators=50,\n",
        "        min_samples_split= 10,min_samples_leaf= 4,\n",
        "        max_features='sqrt',max_depth= 4,\n",
        "        learning_rate=0.1,random_state=42)\n",
        "\n",
        "gbr.fit(X_train, y_train)\n",
        "y_pred_gbr = gbr.predict(X_test)\n",
        "print(\"\\nGradient Boosting Regressor:\")\n",
        "print(\"R-squared:\", r2_score(y_test, y_pred_gbr))\n",
        "print(\"Mean Absolute Error:\", mean_absolute_error(y_test, y_pred_gbr))\n",
        "print(\"Mean Squared Error:\", mean_squared_error(y_test, y_pred_gbr))"
      ]
    },
    {
      "cell_type": "markdown",
      "metadata": {
        "id": "NI_NKoEThgc5"
      },
      "source": [
        "#Thanks ⚓"
      ]
    }
  ],
  "metadata": {
    "colab": {
      "collapsed_sections": [
        "4fjlBu4U_OMn",
        "wCXVZpngQ_1B"
      ],
      "provenance": [],
      "include_colab_link": true
    },
    "kernelspec": {
      "display_name": "Python 3",
      "name": "python3"
    },
    "language_info": {
      "name": "python"
    }
  },
  "nbformat": 4,
  "nbformat_minor": 0
}